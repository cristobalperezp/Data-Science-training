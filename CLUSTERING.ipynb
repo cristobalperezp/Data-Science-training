{
  "nbformat": 4,
  "nbformat_minor": 0,
  "metadata": {
    "colab": {
      "name": "CLUSTERING.ipynb",
      "provenance": [],
      "collapsed_sections": [],
      "include_colab_link": true
    },
    "kernelspec": {
      "name": "python3",
      "display_name": "Python 3"
    },
    "language_info": {
      "name": "python"
    }
  },
  "cells": [
    {
      "cell_type": "markdown",
      "metadata": {
        "id": "view-in-github",
        "colab_type": "text"
      },
      "source": [
        "<a href=\"https://colab.research.google.com/github/cristobalperezp/Data-Science-training/blob/main/CLUSTERING.ipynb\" target=\"_parent\"><img src=\"https://colab.research.google.com/assets/colab-badge.svg\" alt=\"Open In Colab\"/></a>"
      ]
    },
    {
      "cell_type": "markdown",
      "metadata": {
        "id": "5cI8k7Urqj6K"
      },
      "source": [
        "<center><h1>CLUSTERING</center></h1>"
      ]
    },
    {
      "cell_type": "code",
      "source": [
        "import zipfile\t\n",
        "import os\n",
        "\n",
        "!wget --no-check-certificate \\\n",
        "    \"https://github.com/cristobalperezp/Data-Science-training/archive/refs/heads/main.zip\" \\\n",
        "    -O \"main.zip\"\n",
        "\t\n",
        "zip_ref = zipfile.ZipFile('main.zip', 'r') #Opens the zip file in read mode\n",
        "zip_ref.extractall('/tmp') #Extracts the files into the /tmp folder\n",
        "zip_ref.close()\n"
      ],
      "metadata": {
        "id": "bhJZSPD2DCFt"
      },
      "execution_count": null,
      "outputs": []
    },
    {
      "cell_type": "code",
      "source": [
        "# MinMaxScaler\n",
        "from sklearn.preprocessing import MinMaxScaler"
      ],
      "metadata": {
        "id": "nBeEWj2jzQ5w"
      },
      "execution_count": null,
      "outputs": []
    },
    {
      "cell_type": "code",
      "source": [
        "# scaler\n",
        "scaler = MinMaxScaler()\n",
        "# transformar la data\n",
        "DATA = scaler.fit_transform(DATOS)\n",
        "DATA"
      ],
      "metadata": {
        "id": "yzCUPBW8yyzI"
      },
      "execution_count": null,
      "outputs": []
    },
    {
      "cell_type": "code",
      "metadata": {
        "id": "olBQ_qqdBiAi"
      },
      "source": [
        "#KMEANS\n",
        "from sklearn.cluster import KMeans    #importar método para hacer KMeans\n",
        "import matplotlib.pyplot as plt       #para graficar\n",
        "import numpy as np                    #numpy para manejo de arreglos\n",
        "\n",
        "# Plotly library\n",
        "import plotly.express as px           #librerias necesarias para usar plotly\n",
        "import plotly.graph_objects as go\n",
        "import plotly.figure_factory as ff\n",
        "\n",
        "random_state = 12345                  #Se fija aletoreidad necesaria"
      ],
      "execution_count": null,
      "outputs": []
    },
    {
      "cell_type": "code",
      "metadata": {
        "colab": {
          "base_uri": "https://localhost:8080/",
          "height": 553
        },
        "id": "VsNfAYI7cKng",
        "outputId": "0c32158c-ec01-4e8d-994f-8bcffa6f0c26"
      },
      "source": [
        "sse = []\n",
        "\n",
        "clusters = list(range(1, 20))\n",
        "for k in clusters:\n",
        "    kmeans = KMeans(n_clusters=k).fit(DATA)\n",
        "    sse.append(kmeans.inertia_)\n",
        "plt.figure(figsize=(16,9))\n",
        "plt.plot(clusters, sse, marker=\"o\")\n",
        "plt.title(\"Metodo del codo de 1 a 20 clusters\")\n",
        "plt.grid(True)\n",
        "plt.show()"
      ],
      "execution_count": null,
      "outputs": [
        {
          "output_type": "display_data",
          "data": {
            "image/png": "[encoded data removed]",
            "text/plain": [
              "<Figure size 1152x648 with 1 Axes>"
            ]
          },
          "metadata": {
            "needs_background": "light"
          }
        }
      ]
    },
    {
      "cell_type": "code",
      "metadata": {
        "id": "87xLbfeFeKxR"
      },
      "source": [
        "#CON EL MÉTODO DEL CODO, SE IDENTIFICA UN \"CODO\" EN 4 CLUSTERS, YA QUE ESISTE UN CAMBIO CONSIDERABLE EN LA PENDIENTE DE LA RECTA.\n",
        "#NOTANDO QUE LAS GANANCIAS EN TÉRMINOS DE SSE POR UN CLUSTER MÁS(5), ES MENOR EN COMPARACIÓN A 4."
      ],
      "execution_count": null,
      "outputs": []
    },
    {
      "cell_type": "code",
      "metadata": {
        "id": "IDhOEj-kaT_U"
      },
      "source": [
        "#UTILIZAMOS KMEANS CON K CLUSTERS\n",
        "kmeans = KMeans(n_clusters=CLUSTERS, n_init=100, max_iter=500, random_state=random_state)\n",
        "kmeans.fit(DATA)\n",
        "#GUARDAMOS LAS PREDICCIONES\n",
        "y_pred = kmeans.predict(DATA)                                                        "
      ],
      "execution_count": null,
      "outputs": []
    },
    {
      "cell_type": "code",
      "metadata": {
        "id": "1t6_9EWpg1NF"
      },
      "source": [
        "#CREAMOS UNA COPIA DE BANK, DÓNDE GUARDAREMOS LAS ETIQUETAS DEL CLUSTERING\n",
        "DATA_clust=DATA.copy()\n",
        "DATA_clust['labels_kmeans'] = kmeans.labels_"
      ],
      "execution_count": null,
      "outputs": []
    },
    {
      "cell_type": "code",
      "metadata": {
        "id": "DrgnoygVjUYb"
      },
      "source": [
        "#DIVIDIMOS EL DATASET, PARA LUEGO REDUCIR LA DIMENSIONALIDAD Y PODER VISUALIZAR EN 2D LOS CLUSTERS FORMADOS\n",
        "X=DATA_clust.iloc[:,0:largo].values\n",
        "Y=DATA_clust.iloc[:,largo].values"
      ],
      "execution_count": null,
      "outputs": []
    },
    {
      "cell_type": "code",
      "metadata": {
        "id": "Qu9lPB6Ph-xu"
      },
      "source": [
        "from sklearn.decomposition import PCA\n",
        "#CREAR EL OBJETO PCA\n",
        "pca = PCA(n_components=2)\n",
        "#AJUSTARLO A LOS DATOS\n",
        "principalComponents = pca.fit_transform(X)\n",
        "\n",
        "#DATAFRAME CON LAS PC\n",
        "df_pca = pd.DataFrame(data = principalComponents, columns = ['c1', 'c2'])\n",
        "#INCLUIMOS LAS ETIQUETAS DE KMEANS\n",
        "df_pca['labels_kmeans']=y\n",
        "\n",
        "df_pca.head()"
      ],
      "execution_count": null,
      "outputs": []
    },
    {
      "cell_type": "code",
      "metadata": {
        "id": "8-aVIkbKkI81"
      },
      "source": [
        "#GRAFICAMOS EN 2D\n",
        "plt.figure(figsize=(16,9))\n",
        "plt.scatter(df_pca['c1'], df_pca['c2'],c=kmeans.labels_)\n",
        "plt.title(\"Método PCA: Gráfico de clusters\")\n",
        "plt.show()"
      ],
      "execution_count": null,
      "outputs": []
    },
    {
      "cell_type": "code",
      "metadata": {
        "id": "L89J4B2ZpaHt"
      },
      "source": [
        "#TRAS APLICAR EL MÉTODO DE CLUSTERING KMEANS A LA BASE DE DATOS, SE LLEVARON LOS RESULTADOS A UN DATAFRAME DE DIMENSIONALIDAD 2 PARA PODER VISUALIZAR\n",
        "#LOS GRUPOS OBTENIDOS, EN DÓNDE POR EL MÉTODO DE PCA, SÓLO ES POSIBLE DECIR QUE SE ENCONTRARON 4 CATEGORÍAS DE CLIENTES AGRUPADOS POR SIMILITUDES EN\n",
        "#EDAD, INGRESOS, DEUDA POR CONSUMO, DEUDA POR CRÉDITO Y OTRAS DEUDAS."
      ],
      "execution_count": null,
      "outputs": []
    },
    {
      "cell_type": "code",
      "metadata": {
        "id": "J2BCKZkhbfYi"
      },
      "source": [
        "#CLUSTERING AGLOMERATIVO JERÁRQUICO\n",
        "from sklearn.cluster import AgglomerativeClustering\n",
        "from scipy.cluster.hierarchy import dendrogram,linkage"
      ],
      "execution_count": null,
      "outputs": []
    },
    {
      "cell_type": "code",
      "metadata": {
        "id": "2JJqU-4Zbgpf"
      },
      "source": [
        "#4 MODELOS DE CLUSTERING JERÁRQUICO\n",
        "complete = linkage(X, method=\"complete\", metric=\"euclidean\", optimal_ordering=False)\n",
        "single = linkage(X, method=\"single\", metric=\"euclidean\", optimal_ordering=False)\n",
        "average = linkage(X, method=\"average\", metric=\"euclidean\", optimal_ordering=False)\n",
        "ward = linkage(X, method=\"ward\", metric=\"euclidean\", optimal_ordering= False)"
      ],
      "execution_count": null,
      "outputs": []
    },
    {
      "cell_type": "code",
      "metadata": {
        "colab": {
          "base_uri": "https://localhost:8080/",
          "height": 284
        },
        "id": "g06-QX_Hbgpf",
        "outputId": "83ad926b-a352-4324-f614-2351176f15f5"
      },
      "source": [
        "#COMPLETE\n",
        "dendrogram(complete)\n",
        "plt.title(\"Linkage: Complete\")\n",
        "plt.show()"
      ],
      "execution_count": null,
      "outputs": [
        {
          "output_type": "display_data",
          "data": {
            "image/png": "[encoded data removed]",
            "text/plain": [
              "<Figure size 432x288 with 1 Axes>"
            ]
          },
          "metadata": {
            "needs_background": "light"
          }
        }
      ]
    },
    {
      "cell_type": "code",
      "metadata": {
        "colab": {
          "base_uri": "https://localhost:8080/",
          "height": 284
        },
        "id": "YQ6kFOhWbgpg",
        "outputId": "8eee131b-b662-4768-a96e-a2fd1852c856"
      },
      "source": [
        "#SINGLE\n",
        "dendrogram(single)\n",
        "plt.title(\"Linkage: Single\")\n",
        "plt.show()"
      ],
      "execution_count": null,
      "outputs": [
        {
          "output_type": "display_data",
          "data": {
            "image/png": "[encoded data removed]",
            "text/plain": [
              "<Figure size 432x288 with 1 Axes>"
            ]
          },
          "metadata": {
            "needs_background": "light"
          }
        }
      ]
    },
    {
      "cell_type": "code",
      "metadata": {
        "colab": {
          "base_uri": "https://localhost:8080/",
          "height": 284
        },
        "id": "GNsKduljbgpg",
        "outputId": "e4050926-e4dc-4cff-ac9f-eff2fb508326"
      },
      "source": [
        "#AVERAGE\n",
        "dendrogram(average)\n",
        "plt.title(\"Linkage: Average\")\n",
        "plt.show()"
      ],
      "execution_count": null,
      "outputs": [
        {
          "output_type": "display_data",
          "data": {
            "image/png": "[encoded data removed]",
            "text/plain": [
              "<Figure size 432x288 with 1 Axes>"
            ]
          },
          "metadata": {
            "needs_background": "light"
          }
        }
      ]
    },
    {
      "cell_type": "code",
      "metadata": {
        "colab": {
          "base_uri": "https://localhost:8080/",
          "height": 284
        },
        "id": "A62D38jEbgpg",
        "outputId": "0c00cd40-c071-410b-b09a-3f8360d85ccf"
      },
      "source": [
        "#WARD\n",
        "dendrogram(ward)\n",
        "plt.title(\"Linkage: Ward\")\n",
        "plt.show()"
      ],
      "execution_count": null,
      "outputs": [
        {
          "output_type": "display_data",
          "data": {
            "image/png": "[encoded data removed]",
            "text/plain": [
              "<Figure size 432x288 with 1 Axes>"
            ]
          },
          "metadata": {
            "needs_background": "light"
          }
        }
      ]
    },
    {
      "cell_type": "code",
      "metadata": {
        "id": "Cr3Ak5-cunk9"
      },
      "source": [
        "#POR VISUALIZACIÓN, SE PREFIERE UTILIZAR WARD PARA APLICAR EL CLUSTERING CON EL TOTAL DE 4 CLUSTERS QUE SE DECIDIERON CON KMEANS\n",
        "ac = AgglomerativeClustering(n_clusters=CLUSTERS,\n",
        "                             linkage=\"ward\",\n",
        "                             distance_threshold=None)\n",
        "ac.fit(X)"
      ],
      "execution_count": null,
      "outputs": []
    },
    {
      "cell_type": "code",
      "metadata": {
        "id": "UQiQbET5xIFX"
      },
      "source": [
        "#SE AGREGAN LAS ETIQUETAS DEL CLUSTERING JERÁRQUICO ALGOMERATIVO\n",
        "DATA_clust['labels_aglo'] = ac.labels_\n",
        "#DE IGUAL FORMA AL MODELO REDUCIDO EN 2D PARA GRAFICAR Y VER COMPARACIONES\n",
        "df_pca['labels_aglo']=ac.labels_"
      ],
      "execution_count": null,
      "outputs": []
    },
    {
      "cell_type": "code",
      "metadata": {
        "id": "hcolwtFUyIXp"
      },
      "source": [
        "import matplotlib.pyplot as plt \n",
        "#GRAFICAMOS CON LAS ETIQUETAS DEL CLUSTERING JERÁRQUICO\n",
        "plt.figure(figsize=(16,9))\n",
        "plt.scatter(df_pca['c1'], df_pca['c2'],c=ac.labels_)\n",
        "plt.title(\"Método PCA: Gráfico de clusters\")\n",
        "plt.show()"
      ],
      "execution_count": null,
      "outputs": []
    },
    {
      "cell_type": "code",
      "metadata": {
        "id": "99A3c-8ac-du"
      },
      "source": [
        "#NOTAMOS QUE HAY UNA SIMILITUD EN CUANTO A LA UBICACIÓN DE LOS CLUSTERS ENCONTRADOS, DESTACANDO ADEMÁS UN MAYOR SOLAPAMIENTO DE LOS CLUSTERS QUE SE VISUALIZA EN \n",
        "#ESTE ÚLTIMO GRÁFICO, PERO SE CONCLUYE DE IGUAL MANERA QUE CON KMEANS QUE SE ENCONTRARON 4 CLUSTERS DE CLIENTES AGRUPADOS POR LOS MISMOS ATRIBUTOS Y QUE COMPARTEN \n",
        "#SIMILITUDES EN ESTAS."
      ],
      "execution_count": null,
      "outputs": []
    },
    {
      "cell_type": "code",
      "source": [
        "from sklearn.cluster import DBSCAN"
      ],
      "metadata": {
        "id": "3GHvm3CdlmNj"
      },
      "execution_count": null,
      "outputs": []
    },
    {
      "cell_type": "code",
      "source": [
        "eps = 0.5\n",
        "min_samples = 5\n",
        "\n",
        "dbscan = DBSCAN(eps=eps, min_samples=min_samples).fit(X)"
      ],
      "metadata": {
        "id": "7LFHkKTLlmxx"
      },
      "execution_count": null,
      "outputs": []
    },
    {
      "cell_type": "code",
      "source": [
        "import matplotlib.pyplot as plt \n",
        "#GRAFICAMOS CON LAS ETIQUETAS DEL CLUSTERING DBSCAN\n",
        "plt.figure(figsize=(16,9))\n",
        "plt.scatter(df_pca['c1'], df_pca['c2'],c=dbscan.labels_)\n",
        "plt.title(f\"PDCA #### DBSCAN: eps={eps}, min_samples={min_samples}\")\n",
        "plt.show()"
      ],
      "metadata": {
        "id": "IJTgK31Wmk9A"
      },
      "execution_count": null,
      "outputs": []
    },
    {
      "cell_type": "code",
      "source": [
        "#SE AGREGAN LAS ETIQUETAS DEL CLUSTERING DBSCAN\n",
        "DATA_clust['labels_dbs'] = dbscan.labels_\n",
        "#DE IGUAL FORMA AL MODELO REDUCIDO EN 2D PARA GRAFICAR Y VER COMPARACIONES\n",
        "df_pca['labels_dbs']=dbscan.labels_"
      ],
      "metadata": {
        "id": "jnFoLkMEmMfO"
      },
      "execution_count": null,
      "outputs": []
    },
    {
      "cell_type": "code",
      "metadata": {
        "id": "1mtlN7Xiggsa"
      },
      "source": [
        "#VERIFICACIÓN DE SOLAPAMIENTO\n",
        "from sklearn.metrics import silhouette_score\n",
        "print(\"Dataset X K-Means\\t\", silhouette_score(X, kmeans.labels_))\n",
        "print(\"Dataset X Ward Agg\\t\", silhouette_score(X, ac.labels_))\n",
        "# para DBSCAN tenermos que filtrar las labels negativas, ya que representan ruido, no otro cluster\n",
        "_filter_label = dbscan.labels_ >= 0\n",
        "print(\"Dataset X DBSCAN\\t\", silhouette_score(X[_filter_label], dbscan.labels_[_filter_label]))"
      ],
      "execution_count": null,
      "outputs": []
    },
    {
      "cell_type": "code",
      "metadata": {
        "id": "FFFaDfZ-w89a"
      },
      "source": [
        "DATA2=X.copy()\n",
        "DATA2['labels_kmeans']=DATA_clust['labels_kmeans']\n",
        "DATA2['labels_aglo']=DATA_clust['labels_aglo']\n",
        "DATA2['labels_dbs']=DATA_clust['labels_dbs']\n",
        "DATA2"
      ],
      "execution_count": null,
      "outputs": []
    },
    {
      "cell_type": "markdown",
      "metadata": {
        "id": "99rIjo-FssAf"
      },
      "source": [
        "**Bonus**\n",
        "#### Interpretar resultados (1.0 Puntos)"
      ]
    },
    {
      "cell_type": "code",
      "metadata": {
        "colab": {
          "base_uri": "https://localhost:8080/",
          "height": 226
        },
        "id": "7J6MSpOzyBnW",
        "outputId": "cb2e299d-66e8-48c3-89bc-d7402370c38a"
      },
      "source": [
        "DATA2.groupby(by='labels_kmeans').mean()"
      ],
      "execution_count": null,
      "outputs": [
        {
          "output_type": "execute_result",
          "data": {
            "text/html": [
              "<div>\n",
              "<style scoped>\n",
              "    .dataframe tbody tr th:only-of-type {\n",
              "        vertical-align: middle;\n",
              "    }\n",
              "\n",
              "    .dataframe tbody tr th {\n",
              "        vertical-align: top;\n",
              "    }\n",
              "\n",
              "    .dataframe thead th {\n",
              "        text-align: right;\n",
              "    }\n",
              "</style>\n",
              "<table border=\"1\" class=\"dataframe\">\n",
              "  <thead>\n",
              "    <tr style=\"text-align: right;\">\n",
              "      <th></th>\n",
              "      <th>costumer_id</th>\n",
              "      <th>age</th>\n",
              "      <th>yrs_work</th>\n",
              "      <th>yrs_address</th>\n",
              "      <th>income</th>\n",
              "      <th>income_debt</th>\n",
              "      <th>credit_debt</th>\n",
              "      <th>other_debt</th>\n",
              "      <th>debt</th>\n",
              "      <th>ratio_debt</th>\n",
              "      <th>address_work</th>\n",
              "      <th>age_norm</th>\n",
              "      <th>income_norm</th>\n",
              "      <th>yrs_work_norm</th>\n",
              "      <th>yrs_address_norm</th>\n",
              "      <th>income_debt_norm</th>\n",
              "      <th>credit_debt_norm</th>\n",
              "      <th>other_debt_norm</th>\n",
              "      <th>debt_norm</th>\n",
              "      <th>ratio_debt_norm</th>\n",
              "      <th>labels_aglo</th>\n",
              "    </tr>\n",
              "    <tr>\n",
              "      <th>labels_kmeans</th>\n",
              "      <th></th>\n",
              "      <th></th>\n",
              "      <th></th>\n",
              "      <th></th>\n",
              "      <th></th>\n",
              "      <th></th>\n",
              "      <th></th>\n",
              "      <th></th>\n",
              "      <th></th>\n",
              "      <th></th>\n",
              "      <th></th>\n",
              "      <th></th>\n",
              "      <th></th>\n",
              "      <th></th>\n",
              "      <th></th>\n",
              "      <th></th>\n",
              "      <th></th>\n",
              "      <th></th>\n",
              "      <th></th>\n",
              "      <th></th>\n",
              "      <th></th>\n",
              "    </tr>\n",
              "  </thead>\n",
              "  <tbody>\n",
              "    <tr>\n",
              "      <th>0</th>\n",
              "      <td>231133.909091</td>\n",
              "      <td>30.380165</td>\n",
              "      <td>4.880165</td>\n",
              "      <td>4.454545</td>\n",
              "      <td>48.318182</td>\n",
              "      <td>19.904132</td>\n",
              "      <td>3.169835</td>\n",
              "      <td>6.377934</td>\n",
              "      <td>29.451901</td>\n",
              "      <td>0.740930</td>\n",
              "      <td>0.190083</td>\n",
              "      <td>0.202954</td>\n",
              "      <td>0.034038</td>\n",
              "      <td>0.077463</td>\n",
              "      <td>0.131016</td>\n",
              "      <td>0.487787</td>\n",
              "      <td>0.087871</td>\n",
              "      <td>0.100346</td>\n",
              "      <td>0.267529</td>\n",
              "      <td>0.350258</td>\n",
              "      <td>0.028926</td>\n",
              "    </tr>\n",
              "    <tr>\n",
              "      <th>1</th>\n",
              "      <td>227782.088847</td>\n",
              "      <td>24.705104</td>\n",
              "      <td>2.158790</td>\n",
              "      <td>2.366730</td>\n",
              "      <td>34.720227</td>\n",
              "      <td>7.097353</td>\n",
              "      <td>0.802268</td>\n",
              "      <td>1.625917</td>\n",
              "      <td>9.525539</td>\n",
              "      <td>0.321206</td>\n",
              "      <td>0.319471</td>\n",
              "      <td>0.109920</td>\n",
              "      <td>0.021294</td>\n",
              "      <td>0.034267</td>\n",
              "      <td>0.069610</td>\n",
              "      <td>0.172349</td>\n",
              "      <td>0.022032</td>\n",
              "      <td>0.025464</td>\n",
              "      <td>0.085786</td>\n",
              "      <td>0.150925</td>\n",
              "      <td>1.332703</td>\n",
              "    </tr>\n",
              "    <tr>\n",
              "      <th>2</th>\n",
              "      <td>219282.472441</td>\n",
              "      <td>60.456693</td>\n",
              "      <td>22.811024</td>\n",
              "      <td>17.409449</td>\n",
              "      <td>156.401575</td>\n",
              "      <td>13.024409</td>\n",
              "      <td>5.736614</td>\n",
              "      <td>11.834882</td>\n",
              "      <td>30.595906</td>\n",
              "      <td>0.297791</td>\n",
              "      <td>0.023622</td>\n",
              "      <td>0.696011</td>\n",
              "      <td>0.135334</td>\n",
              "      <td>0.362080</td>\n",
              "      <td>0.512043</td>\n",
              "      <td>0.318335</td>\n",
              "      <td>0.159250</td>\n",
              "      <td>0.186336</td>\n",
              "      <td>0.277963</td>\n",
              "      <td>0.139804</td>\n",
              "      <td>0.984252</td>\n",
              "    </tr>\n",
              "    <tr>\n",
              "      <th>3</th>\n",
              "      <td>206603.631757</td>\n",
              "      <td>43.716216</td>\n",
              "      <td>10.847973</td>\n",
              "      <td>10.425676</td>\n",
              "      <td>74.375000</td>\n",
              "      <td>6.625338</td>\n",
              "      <td>1.603784</td>\n",
              "      <td>3.073547</td>\n",
              "      <td>11.302669</td>\n",
              "      <td>0.193614</td>\n",
              "      <td>0.047297</td>\n",
              "      <td>0.421577</td>\n",
              "      <td>0.058458</td>\n",
              "      <td>0.172190</td>\n",
              "      <td>0.306638</td>\n",
              "      <td>0.160723</td>\n",
              "      <td>0.044321</td>\n",
              "      <td>0.048275</td>\n",
              "      <td>0.101994</td>\n",
              "      <td>0.090329</td>\n",
              "      <td>1.905405</td>\n",
              "    </tr>\n",
              "  </tbody>\n",
              "</table>\n",
              "</div>"
            ],
            "text/plain": [
              "                 costumer_id        age  ...  ratio_debt_norm  labels_aglo\n",
              "labels_kmeans                            ...                              \n",
              "0              231133.909091  30.380165  ...         0.350258     0.028926\n",
              "1              227782.088847  24.705104  ...         0.150925     1.332703\n",
              "2              219282.472441  60.456693  ...         0.139804     0.984252\n",
              "3              206603.631757  43.716216  ...         0.090329     1.905405\n",
              "\n",
              "[4 rows x 21 columns]"
            ]
          },
          "metadata": {},
          "execution_count": 190
        }
      ]
    },
    {
      "cell_type": "markdown",
      "metadata": {
        "id": "dL04U-GdCsSr"
      },
      "source": [
        "**Respuesta:**\\\n",
        "Tras realizar el clsutering a la base de datos, se encontró que:\n",
        "\n",
        "*   **Cluster 1** (label 1): corresponde a los clientes de menor edad, con menor experiencia laboral y menores ingresos, con una deuda total menor, pero que presentan un ratio de deuda (deuda total/ingresos) mayor que el cluster 2.\n",
        "*   **Cluster 2** (label 0): este grupo de clientes, se encuentra en promedio en los 30 años, y cuentan con una experiencia laboral mayor al grupo anterior, al igual que sus ingresos, pero mantienen una deuda total total casi tan alta como el grupo de mayor edad, hecho que se traduce en que son el grupo con un mayor ratio de deuda.\n",
        "*   **Cluster 3** (label 3): corresponde al grupo de clientes que rondan los 40 años, cuya experiencia labroal duplica a la del grupo anterior, y en promedio, ganan 25 mil dolares más que el segundo grupo, por otro lado sus deudas totales son menores que este segundo grupo y su ratio de deuda es el menor etre los 4 clusters.\n",
        "*   **Cluster 4** (label 4): este grupo es el de mayor edad y por cosiguiente una mayor experiencia laboral, sus ingresos promedio rondan los 150 mil dólares, pero son el grupo con mayor deuda total, no así, debido a sus ingresos, el ratio de deuda es el 2do menor entre los cuatro clusters encontrados.\n",
        "\n",
        "Se concluye que del clustering, se encontraron grupos que mantienen relación lógica entre sus características y atributos, y que caracterizan de buena manera sus similitudes y diferencias con los otros grupos.\n",
        "\n"
      ]
    }
  ]
}