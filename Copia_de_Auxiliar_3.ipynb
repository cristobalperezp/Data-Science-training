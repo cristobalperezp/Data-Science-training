{
  "nbformat": 4,
  "nbformat_minor": 0,
  "metadata": {
    "kernelspec": {
      "display_name": "Python 3",
      "language": "python",
      "name": "python3"
    },
    "language_info": {
      "codemirror_mode": {
        "name": "ipython",
        "version": 3
      },
      "file_extension": ".py",
      "mimetype": "text/x-python",
      "name": "python",
      "nbconvert_exporter": "python",
      "pygments_lexer": "ipython3",
      "version": "3.7.6"
    },
    "colab": {
      "name": "Copia de Auxiliar 3.ipynb",
      "provenance": [],
      "collapsed_sections": [
        "N6XM69uidxmD",
        "JxKfkGxBdxmG",
        "kQ8oSJIWdxmG",
        "BMcMCG25dxmS",
        "yXJsdfbbdxmV",
        "BFzaSAhPdxmW",
        "v0v-QOmndxmX",
        "qEQ9vFxUdxma",
        "ZSomqxpbdxmb",
        "O4VcqyTzdxmb",
        "OOARMnfZdxmc",
        "5TEkoQNZdxmi",
        "YIGPCRhPdxmj"
      ],
      "include_colab_link": true
    }
  },
  "cells": [
    {
      "cell_type": "markdown",
      "metadata": {
        "id": "view-in-github",
        "colab_type": "text"
      },
      "source": [
        "<a href=\"https://colab.research.google.com/github/cristobalperezp/Data-Science-training/blob/main/Copia_de_Auxiliar_3.ipynb\" target=\"_parent\"><img src=\"https://colab.research.google.com/assets/colab-badge.svg\" alt=\"Open In Colab\"/></a>"
      ]
    },
    {
      "cell_type": "markdown",
      "metadata": {
        "id": "Su3zUPX9dxl2"
      },
      "source": [
        "# Auxiliar 3: Renta Variable:"
      ]
    },
    {
      "cell_type": "markdown",
      "metadata": {
        "id": "9-XDhobEdxl6"
      },
      "source": [
        "Primero se importan las librerias correspondientes"
      ]
    },
    {
      "cell_type": "code",
      "metadata": {
        "colab": {
          "base_uri": "https://localhost:8080/"
        },
        "id": "e_R09Mun099i",
        "outputId": "8f4f6434-7e69-4c1f-f038-22c7e72f3c25"
      },
      "source": [
        "pip install yfinance --upgrade --no-cache-dir"
      ],
      "execution_count": null,
      "outputs": [
        {
          "output_type": "stream",
          "name": "stdout",
          "text": [
            "Requirement already satisfied: yfinance in /usr/local/lib/python3.7/dist-packages (0.1.70)\n",
            "Requirement already satisfied: lxml>=4.5.1 in /usr/local/lib/python3.7/dist-packages (from yfinance) (4.8.0)\n",
            "Requirement already satisfied: numpy>=1.15 in /usr/local/lib/python3.7/dist-packages (from yfinance) (1.21.6)\n",
            "Requirement already satisfied: pandas>=0.24.0 in /usr/local/lib/python3.7/dist-packages (from yfinance) (1.3.5)\n",
            "Requirement already satisfied: multitasking>=0.0.7 in /usr/local/lib/python3.7/dist-packages (from yfinance) (0.0.10)\n",
            "Requirement already satisfied: requests>=2.26 in /usr/local/lib/python3.7/dist-packages (from yfinance) (2.27.1)\n",
            "Requirement already satisfied: pytz>=2017.3 in /usr/local/lib/python3.7/dist-packages (from pandas>=0.24.0->yfinance) (2022.1)\n",
            "Requirement already satisfied: python-dateutil>=2.7.3 in /usr/local/lib/python3.7/dist-packages (from pandas>=0.24.0->yfinance) (2.8.2)\n",
            "Requirement already satisfied: six>=1.5 in /usr/local/lib/python3.7/dist-packages (from python-dateutil>=2.7.3->pandas>=0.24.0->yfinance) (1.15.0)\n",
            "Requirement already satisfied: urllib3<1.27,>=1.21.1 in /usr/local/lib/python3.7/dist-packages (from requests>=2.26->yfinance) (1.24.3)\n",
            "Requirement already satisfied: idna<4,>=2.5 in /usr/local/lib/python3.7/dist-packages (from requests>=2.26->yfinance) (2.10)\n",
            "Requirement already satisfied: certifi>=2017.4.17 in /usr/local/lib/python3.7/dist-packages (from requests>=2.26->yfinance) (2021.10.8)\n",
            "Requirement already satisfied: charset-normalizer~=2.0.0 in /usr/local/lib/python3.7/dist-packages (from requests>=2.26->yfinance) (2.0.12)\n"
          ]
        }
      ]
    },
    {
      "cell_type": "code",
      "metadata": {
        "id": "E8SliCOidxl6"
      },
      "source": [
        "import pandas as pd\n",
        "import numpy as np\n",
        "from datetime import datetime\n",
        "import matplotlib.pyplot as plt\n",
        "import statistics\n",
        "import seaborn as sns\n",
        "#pip install pandas_datareader –––-> Para instalar el paquete pandas_datereader.\n",
        "from pandas_datareader import data\n",
        "import yfinance as yf"
      ],
      "execution_count": null,
      "outputs": []
    },
    {
      "cell_type": "markdown",
      "metadata": {
        "id": "c7CdzbKKdxl8"
      },
      "source": [
        "Luego, se importan las bases de datos a trabajar. Vamos a seleccionar 7 acciones de las empresas del S&P 500. En este caso usaremos Apple, Microsoft, Amazon, Google, Facebook, Tesla, Visa y tendremos de Benchmark el S&P500 y Nasdaq."
      ]
    },
    {
      "cell_type": "markdown",
      "metadata": {
        "id": "NIBVSTuWdxl8"
      },
      "source": [
        "Nasdaq: https://es.wikipedia.org/wiki/NASDAQ\n",
        "\n",
        "S&P 500: https://es.wikipedia.org/wiki/S%26P_500"
      ]
    },
    {
      "cell_type": "markdown",
      "metadata": {
        "id": "K12scAtDdxl9"
      },
      "source": [
        "Se define la fecha desde que queremos los datos, para este caso vamos a requerir los datos hasta 5 años hacía atrás (arbitrariamente)."
      ]
    },
    {
      "cell_type": "code",
      "metadata": {
        "id": "E8vkMRghdxl9"
      },
      "source": [
        "fechaInicio = \"2016-11-15\"\n",
        "hoy = datetime.today().strftime('%Y-%m-%d')"
      ],
      "execution_count": null,
      "outputs": []
    },
    {
      "cell_type": "markdown",
      "metadata": {
        "id": "_BeIWiRBdxl_"
      },
      "source": [
        "Ahora utilizamos la libreria yfinance para extraer la información."
      ]
    },
    {
      "cell_type": "code",
      "metadata": {
        "colab": {
          "base_uri": "https://localhost:8080/",
          "height": 473
        },
        "id": "sNvdETm2dxmA",
        "outputId": "1a045b62-294d-4155-8853-08c60accd6ba"
      },
      "source": [
        "data = yf.download(\"AAPL MSFT AMZN GOOGL FB TSLA V ^GSPC ^IXIC\", start= fechaInicio, end=hoy)\n",
        "df = data[\"Adj Close\"]\n",
        "df"
      ],
      "execution_count": null,
      "outputs": [
        {
          "output_type": "stream",
          "name": "stdout",
          "text": [
            "[*********************100%***********************]  9 of 9 completed\n"
          ]
        },
        {
          "output_type": "execute_result",
          "data": {
            "text/plain": [
              "                  AAPL         AMZN          FB        GOOGL        MSFT  \\\n",
              "Date                                                                       \n",
              "2016-11-15   25.173105   743.239990  117.199997   775.159973   54.623093   \n",
              "2016-11-16   25.849960   746.489990  116.339996   779.979980   55.346828   \n",
              "2016-11-17   25.840565   756.400024  117.790001   786.159973   56.265404   \n",
              "2016-11-18   25.866417   760.159973  117.019997   775.969971   55.996319   \n",
              "2016-11-21   26.258902   780.000000  121.769997   784.799988   56.469532   \n",
              "...                ...          ...         ...          ...         ...   \n",
              "2022-04-11  165.750000  3022.439941  216.460007  2576.469971  285.260010   \n",
              "2022-04-12  167.660004  3015.750000  214.139999  2554.290039  282.059998   \n",
              "2022-04-13  170.399994  3110.820068  214.990005  2597.879883  287.619995   \n",
              "2022-04-14  165.289993  3034.129883  210.179993  2534.600098  279.829987   \n",
              "2022-04-18  165.070007  3055.699951  210.770004  2553.530029  280.519989   \n",
              "\n",
              "                   TSLA           V        ^GSPC         ^IXIC  \n",
              "Date                                                            \n",
              "2016-11-15    36.754002   75.785797  2180.389893   5275.620117  \n",
              "2016-11-16    36.785999   77.404816  2176.939941   5294.580078  \n",
              "2016-11-17    37.731998   78.361771  2187.120117   5333.970215  \n",
              "2016-11-18    37.004002   78.120117  2181.899902   5321.509766  \n",
              "2016-11-21    36.903999   78.961075  2198.179932   5368.859863  \n",
              "...                 ...         ...          ...           ...  \n",
              "2022-04-11   975.929993  214.750000  4412.529785  13411.959961  \n",
              "2022-04-12   986.950012  211.399994  4397.450195  13371.570312  \n",
              "2022-04-13  1022.369995  213.270004  4446.589844  13643.589844  \n",
              "2022-04-14   985.000000  212.789993  4392.589844  13351.080078  \n",
              "2022-04-18  1004.289978  213.169998  4391.689941  13332.360352  \n",
              "\n",
              "[1364 rows x 9 columns]"
            ],
            "text/html": [
              "\n",
              "  <div id=\"df-03e2815f-b219-4401-b429-056016f8c68d\">\n",
              "    <div class=\"colab-df-container\">\n",
              "      <div>\n",
              "<style scoped>\n",
              "    .dataframe tbody tr th:only-of-type {\n",
              "        vertical-align: middle;\n",
              "    }\n",
              "\n",
              "    .dataframe tbody tr th {\n",
              "        vertical-align: top;\n",
              "    }\n",
              "\n",
              "    .dataframe thead th {\n",
              "        text-align: right;\n",
              "    }\n",
              "</style>\n",
              "<table border=\"1\" class=\"dataframe\">\n",
              "  <thead>\n",
              "    <tr style=\"text-align: right;\">\n",
              "      <th></th>\n",
              "      <th>AAPL</th>\n",
              "      <th>AMZN</th>\n",
              "      <th>FB</th>\n",
              "      <th>GOOGL</th>\n",
              "      <th>MSFT</th>\n",
              "      <th>TSLA</th>\n",
              "      <th>V</th>\n",
              "      <th>^GSPC</th>\n",
              "      <th>^IXIC</th>\n",
              "    </tr>\n",
              "    <tr>\n",
              "      <th>Date</th>\n",
              "      <th></th>\n",
              "      <th></th>\n",
              "      <th></th>\n",
              "      <th></th>\n",
              "      <th></th>\n",
              "      <th></th>\n",
              "      <th></th>\n",
              "      <th></th>\n",
              "      <th></th>\n",
              "    </tr>\n",
              "  </thead>\n",
              "  <tbody>\n",
              "    <tr>\n",
              "      <th>2016-11-15</th>\n",
              "      <td>25.173105</td>\n",
              "      <td>743.239990</td>\n",
              "      <td>117.199997</td>\n",
              "      <td>775.159973</td>\n",
              "      <td>54.623093</td>\n",
              "      <td>36.754002</td>\n",
              "      <td>75.785797</td>\n",
              "      <td>2180.389893</td>\n",
              "      <td>5275.620117</td>\n",
              "    </tr>\n",
              "    <tr>\n",
              "      <th>2016-11-16</th>\n",
              "      <td>25.849960</td>\n",
              "      <td>746.489990</td>\n",
              "      <td>116.339996</td>\n",
              "      <td>779.979980</td>\n",
              "      <td>55.346828</td>\n",
              "      <td>36.785999</td>\n",
              "      <td>77.404816</td>\n",
              "      <td>2176.939941</td>\n",
              "      <td>5294.580078</td>\n",
              "    </tr>\n",
              "    <tr>\n",
              "      <th>2016-11-17</th>\n",
              "      <td>25.840565</td>\n",
              "      <td>756.400024</td>\n",
              "      <td>117.790001</td>\n",
              "      <td>786.159973</td>\n",
              "      <td>56.265404</td>\n",
              "      <td>37.731998</td>\n",
              "      <td>78.361771</td>\n",
              "      <td>2187.120117</td>\n",
              "      <td>5333.970215</td>\n",
              "    </tr>\n",
              "    <tr>\n",
              "      <th>2016-11-18</th>\n",
              "      <td>25.866417</td>\n",
              "      <td>760.159973</td>\n",
              "      <td>117.019997</td>\n",
              "      <td>775.969971</td>\n",
              "      <td>55.996319</td>\n",
              "      <td>37.004002</td>\n",
              "      <td>78.120117</td>\n",
              "      <td>2181.899902</td>\n",
              "      <td>5321.509766</td>\n",
              "    </tr>\n",
              "    <tr>\n",
              "      <th>2016-11-21</th>\n",
              "      <td>26.258902</td>\n",
              "      <td>780.000000</td>\n",
              "      <td>121.769997</td>\n",
              "      <td>784.799988</td>\n",
              "      <td>56.469532</td>\n",
              "      <td>36.903999</td>\n",
              "      <td>78.961075</td>\n",
              "      <td>2198.179932</td>\n",
              "      <td>5368.859863</td>\n",
              "    </tr>\n",
              "    <tr>\n",
              "      <th>...</th>\n",
              "      <td>...</td>\n",
              "      <td>...</td>\n",
              "      <td>...</td>\n",
              "      <td>...</td>\n",
              "      <td>...</td>\n",
              "      <td>...</td>\n",
              "      <td>...</td>\n",
              "      <td>...</td>\n",
              "      <td>...</td>\n",
              "    </tr>\n",
              "    <tr>\n",
              "      <th>2022-04-11</th>\n",
              "      <td>165.750000</td>\n",
              "      <td>3022.439941</td>\n",
              "      <td>216.460007</td>\n",
              "      <td>2576.469971</td>\n",
              "      <td>285.260010</td>\n",
              "      <td>975.929993</td>\n",
              "      <td>214.750000</td>\n",
              "      <td>4412.529785</td>\n",
              "      <td>13411.959961</td>\n",
              "    </tr>\n",
              "    <tr>\n",
              "      <th>2022-04-12</th>\n",
              "      <td>167.660004</td>\n",
              "      <td>3015.750000</td>\n",
              "      <td>214.139999</td>\n",
              "      <td>2554.290039</td>\n",
              "      <td>282.059998</td>\n",
              "      <td>986.950012</td>\n",
              "      <td>211.399994</td>\n",
              "      <td>4397.450195</td>\n",
              "      <td>13371.570312</td>\n",
              "    </tr>\n",
              "    <tr>\n",
              "      <th>2022-04-13</th>\n",
              "      <td>170.399994</td>\n",
              "      <td>3110.820068</td>\n",
              "      <td>214.990005</td>\n",
              "      <td>2597.879883</td>\n",
              "      <td>287.619995</td>\n",
              "      <td>1022.369995</td>\n",
              "      <td>213.270004</td>\n",
              "      <td>4446.589844</td>\n",
              "      <td>13643.589844</td>\n",
              "    </tr>\n",
              "    <tr>\n",
              "      <th>2022-04-14</th>\n",
              "      <td>165.289993</td>\n",
              "      <td>3034.129883</td>\n",
              "      <td>210.179993</td>\n",
              "      <td>2534.600098</td>\n",
              "      <td>279.829987</td>\n",
              "      <td>985.000000</td>\n",
              "      <td>212.789993</td>\n",
              "      <td>4392.589844</td>\n",
              "      <td>13351.080078</td>\n",
              "    </tr>\n",
              "    <tr>\n",
              "      <th>2022-04-18</th>\n",
              "      <td>165.070007</td>\n",
              "      <td>3055.699951</td>\n",
              "      <td>210.770004</td>\n",
              "      <td>2553.530029</td>\n",
              "      <td>280.519989</td>\n",
              "      <td>1004.289978</td>\n",
              "      <td>213.169998</td>\n",
              "      <td>4391.689941</td>\n",
              "      <td>13332.360352</td>\n",
              "    </tr>\n",
              "  </tbody>\n",
              "</table>\n",
              "<p>1364 rows × 9 columns</p>\n",
              "</div>\n",
              "      <button class=\"colab-df-convert\" onclick=\"convertToInteractive('df-03e2815f-b219-4401-b429-056016f8c68d')\"\n",
              "              title=\"Convert this dataframe to an interactive table.\"\n",
              "              style=\"display:none;\">\n",
              "        \n",
              "  <svg xmlns=\"http://www.w3.org/2000/svg\" height=\"24px\"viewBox=\"0 0 24 24\"\n",
              "       width=\"24px\">\n",
              "    <path d=\"M0 0h24v24H0V0z\" fill=\"none\"/>\n",
              "    <path d=\"M18.56 5.44l.94 2.06.94-2.06 2.06-.94-2.06-.94-.94-2.06-.94 2.06-2.06.94zm-11 1L8.5 8.5l.94-2.06 2.06-.94-2.06-.94L8.5 2.5l-.94 2.06-2.06.94zm10 10l.94 2.06.94-2.06 2.06-.94-2.06-.94-.94-2.06-.94 2.06-2.06.94z\"/><path d=\"M17.41 7.96l-1.37-1.37c-.4-.4-.92-.59-1.43-.59-.52 0-1.04.2-1.43.59L10.3 9.45l-7.72 7.72c-.78.78-.78 2.05 0 2.83L4 21.41c.39.39.9.59 1.41.59.51 0 1.02-.2 1.41-.59l7.78-7.78 2.81-2.81c.8-.78.8-2.07 0-2.86zM5.41 20L4 18.59l7.72-7.72 1.47 1.35L5.41 20z\"/>\n",
              "  </svg>\n",
              "      </button>\n",
              "      \n",
              "  <style>\n",
              "    .colab-df-container {\n",
              "      display:flex;\n",
              "      flex-wrap:wrap;\n",
              "      gap: 12px;\n",
              "    }\n",
              "\n",
              "    .colab-df-convert {\n",
              "      background-color: #E8F0FE;\n",
              "      border: none;\n",
              "      border-radius: 50%;\n",
              "      cursor: pointer;\n",
              "      display: none;\n",
              "      fill: #1967D2;\n",
              "      height: 32px;\n",
              "      padding: 0 0 0 0;\n",
              "      width: 32px;\n",
              "    }\n",
              "\n",
              "    .colab-df-convert:hover {\n",
              "      background-color: #E2EBFA;\n",
              "      box-shadow: 0px 1px 2px rgba(60, 64, 67, 0.3), 0px 1px 3px 1px rgba(60, 64, 67, 0.15);\n",
              "      fill: #174EA6;\n",
              "    }\n",
              "\n",
              "    [theme=dark] .colab-df-convert {\n",
              "      background-color: #3B4455;\n",
              "      fill: #D2E3FC;\n",
              "    }\n",
              "\n",
              "    [theme=dark] .colab-df-convert:hover {\n",
              "      background-color: #434B5C;\n",
              "      box-shadow: 0px 1px 3px 1px rgba(0, 0, 0, 0.15);\n",
              "      filter: drop-shadow(0px 1px 2px rgba(0, 0, 0, 0.3));\n",
              "      fill: #FFFFFF;\n",
              "    }\n",
              "  </style>\n",
              "\n",
              "      <script>\n",
              "        const buttonEl =\n",
              "          document.querySelector('#df-03e2815f-b219-4401-b429-056016f8c68d button.colab-df-convert');\n",
              "        buttonEl.style.display =\n",
              "          google.colab.kernel.accessAllowed ? 'block' : 'none';\n",
              "\n",
              "        async function convertToInteractive(key) {\n",
              "          const element = document.querySelector('#df-03e2815f-b219-4401-b429-056016f8c68d');\n",
              "          const dataTable =\n",
              "            await google.colab.kernel.invokeFunction('convertToInteractive',\n",
              "                                                     [key], {});\n",
              "          if (!dataTable) return;\n",
              "\n",
              "          const docLinkHtml = 'Like what you see? Visit the ' +\n",
              "            '<a target=\"_blank\" href=https://colab.research.google.com/notebooks/data_table.ipynb>data table notebook</a>'\n",
              "            + ' to learn more about interactive tables.';\n",
              "          element.innerHTML = '';\n",
              "          dataTable['output_type'] = 'display_data';\n",
              "          await google.colab.output.renderOutput(dataTable, element);\n",
              "          const docLink = document.createElement('div');\n",
              "          docLink.innerHTML = docLinkHtml;\n",
              "          element.appendChild(docLink);\n",
              "        }\n",
              "      </script>\n",
              "    </div>\n",
              "  </div>\n",
              "  "
            ]
          },
          "metadata": {},
          "execution_count": 8
        }
      ]
    },
    {
      "cell_type": "markdown",
      "metadata": {
        "id": "rfDyJw-rdxmB"
      },
      "source": [
        "## EDA"
      ]
    },
    {
      "cell_type": "markdown",
      "metadata": {
        "id": "-OaZrm7GdxmB"
      },
      "source": [
        "Realizaremos gráficos para inspeccionar los datos"
      ]
    },
    {
      "cell_type": "markdown",
      "metadata": {
        "id": "9MhLbEtGdxmC"
      },
      "source": [
        "### Gráfico precio de las acciones en el tiempo."
      ]
    },
    {
      "cell_type": "code",
      "metadata": {
        "colab": {
          "base_uri": "https://localhost:8080/",
          "height": 455
        },
        "id": "xUxyJ5sO3Vq_",
        "outputId": "ad41e6d4-3956-4416-b674-ea6b713463e8"
      },
      "source": [
        "df_2 = df/df.iloc[0]\n",
        "df_2"
      ],
      "execution_count": null,
      "outputs": [
        {
          "output_type": "execute_result",
          "data": {
            "text/plain": [
              "                AAPL      AMZN        FB     GOOGL      MSFT       TSLA  \\\n",
              "Date                                                                      \n",
              "2016-11-15  1.000000  1.000000  1.000000  1.000000  1.000000   1.000000   \n",
              "2016-11-16  1.026888  1.004373  0.992662  1.006218  1.013250   1.000871   \n",
              "2016-11-17  1.026515  1.017706  1.005034  1.014191  1.030066   1.026609   \n",
              "2016-11-18  1.027542  1.022765  0.998464  1.001045  1.025140   1.006802   \n",
              "2016-11-21  1.043133  1.049459  1.038993  1.012436  1.033803   1.004081   \n",
              "...              ...       ...       ...       ...       ...        ...   \n",
              "2022-04-11  6.584408  4.066573  1.846928  3.323791  5.222334  26.553027   \n",
              "2022-04-12  6.660283  4.057572  1.827133  3.295178  5.163750  26.852859   \n",
              "2022-04-13  6.769129  4.185485  1.834386  3.351411  5.265538  27.816563   \n",
              "2022-04-14  6.566134  4.082302  1.793345  3.269777  5.122925  26.799803   \n",
              "2022-04-18  6.557396  4.111323  1.798379  3.294197  5.135557  27.324643   \n",
              "\n",
              "                   V     ^GSPC     ^IXIC  \n",
              "Date                                      \n",
              "2016-11-15  1.000000  1.000000  1.000000  \n",
              "2016-11-16  1.021363  0.998418  1.003594  \n",
              "2016-11-17  1.033990  1.003087  1.011060  \n",
              "2016-11-18  1.030802  1.000693  1.008698  \n",
              "2016-11-21  1.041898  1.008159  1.017674  \n",
              "...              ...       ...       ...  \n",
              "2022-04-11  2.833644  2.023734  2.542253  \n",
              "2022-04-12  2.789441  2.016818  2.534597  \n",
              "2022-04-13  2.814116  2.039355  2.586159  \n",
              "2022-04-14  2.807782  2.014589  2.530713  \n",
              "2022-04-18  2.812796  2.014176  2.527165  \n",
              "\n",
              "[1364 rows x 9 columns]"
            ],
            "text/html": [
              "\n",
              "  <div id=\"df-5beb5fb5-5959-4d96-b278-66427e3188b4\">\n",
              "    <div class=\"colab-df-container\">\n",
              "      <div>\n",
              "<style scoped>\n",
              "    .dataframe tbody tr th:only-of-type {\n",
              "        vertical-align: middle;\n",
              "    }\n",
              "\n",
              "    .dataframe tbody tr th {\n",
              "        vertical-align: top;\n",
              "    }\n",
              "\n",
              "    .dataframe thead th {\n",
              "        text-align: right;\n",
              "    }\n",
              "</style>\n",
              "<table border=\"1\" class=\"dataframe\">\n",
              "  <thead>\n",
              "    <tr style=\"text-align: right;\">\n",
              "      <th></th>\n",
              "      <th>AAPL</th>\n",
              "      <th>AMZN</th>\n",
              "      <th>FB</th>\n",
              "      <th>GOOGL</th>\n",
              "      <th>MSFT</th>\n",
              "      <th>TSLA</th>\n",
              "      <th>V</th>\n",
              "      <th>^GSPC</th>\n",
              "      <th>^IXIC</th>\n",
              "    </tr>\n",
              "    <tr>\n",
              "      <th>Date</th>\n",
              "      <th></th>\n",
              "      <th></th>\n",
              "      <th></th>\n",
              "      <th></th>\n",
              "      <th></th>\n",
              "      <th></th>\n",
              "      <th></th>\n",
              "      <th></th>\n",
              "      <th></th>\n",
              "    </tr>\n",
              "  </thead>\n",
              "  <tbody>\n",
              "    <tr>\n",
              "      <th>2016-11-15</th>\n",
              "      <td>1.000000</td>\n",
              "      <td>1.000000</td>\n",
              "      <td>1.000000</td>\n",
              "      <td>1.000000</td>\n",
              "      <td>1.000000</td>\n",
              "      <td>1.000000</td>\n",
              "      <td>1.000000</td>\n",
              "      <td>1.000000</td>\n",
              "      <td>1.000000</td>\n",
              "    </tr>\n",
              "    <tr>\n",
              "      <th>2016-11-16</th>\n",
              "      <td>1.026888</td>\n",
              "      <td>1.004373</td>\n",
              "      <td>0.992662</td>\n",
              "      <td>1.006218</td>\n",
              "      <td>1.013250</td>\n",
              "      <td>1.000871</td>\n",
              "      <td>1.021363</td>\n",
              "      <td>0.998418</td>\n",
              "      <td>1.003594</td>\n",
              "    </tr>\n",
              "    <tr>\n",
              "      <th>2016-11-17</th>\n",
              "      <td>1.026515</td>\n",
              "      <td>1.017706</td>\n",
              "      <td>1.005034</td>\n",
              "      <td>1.014191</td>\n",
              "      <td>1.030066</td>\n",
              "      <td>1.026609</td>\n",
              "      <td>1.033990</td>\n",
              "      <td>1.003087</td>\n",
              "      <td>1.011060</td>\n",
              "    </tr>\n",
              "    <tr>\n",
              "      <th>2016-11-18</th>\n",
              "      <td>1.027542</td>\n",
              "      <td>1.022765</td>\n",
              "      <td>0.998464</td>\n",
              "      <td>1.001045</td>\n",
              "      <td>1.025140</td>\n",
              "      <td>1.006802</td>\n",
              "      <td>1.030802</td>\n",
              "      <td>1.000693</td>\n",
              "      <td>1.008698</td>\n",
              "    </tr>\n",
              "    <tr>\n",
              "      <th>2016-11-21</th>\n",
              "      <td>1.043133</td>\n",
              "      <td>1.049459</td>\n",
              "      <td>1.038993</td>\n",
              "      <td>1.012436</td>\n",
              "      <td>1.033803</td>\n",
              "      <td>1.004081</td>\n",
              "      <td>1.041898</td>\n",
              "      <td>1.008159</td>\n",
              "      <td>1.017674</td>\n",
              "    </tr>\n",
              "    <tr>\n",
              "      <th>...</th>\n",
              "      <td>...</td>\n",
              "      <td>...</td>\n",
              "      <td>...</td>\n",
              "      <td>...</td>\n",
              "      <td>...</td>\n",
              "      <td>...</td>\n",
              "      <td>...</td>\n",
              "      <td>...</td>\n",
              "      <td>...</td>\n",
              "    </tr>\n",
              "    <tr>\n",
              "      <th>2022-04-11</th>\n",
              "      <td>6.584408</td>\n",
              "      <td>4.066573</td>\n",
              "      <td>1.846928</td>\n",
              "      <td>3.323791</td>\n",
              "      <td>5.222334</td>\n",
              "      <td>26.553027</td>\n",
              "      <td>2.833644</td>\n",
              "      <td>2.023734</td>\n",
              "      <td>2.542253</td>\n",
              "    </tr>\n",
              "    <tr>\n",
              "      <th>2022-04-12</th>\n",
              "      <td>6.660283</td>\n",
              "      <td>4.057572</td>\n",
              "      <td>1.827133</td>\n",
              "      <td>3.295178</td>\n",
              "      <td>5.163750</td>\n",
              "      <td>26.852859</td>\n",
              "      <td>2.789441</td>\n",
              "      <td>2.016818</td>\n",
              "      <td>2.534597</td>\n",
              "    </tr>\n",
              "    <tr>\n",
              "      <th>2022-04-13</th>\n",
              "      <td>6.769129</td>\n",
              "      <td>4.185485</td>\n",
              "      <td>1.834386</td>\n",
              "      <td>3.351411</td>\n",
              "      <td>5.265538</td>\n",
              "      <td>27.816563</td>\n",
              "      <td>2.814116</td>\n",
              "      <td>2.039355</td>\n",
              "      <td>2.586159</td>\n",
              "    </tr>\n",
              "    <tr>\n",
              "      <th>2022-04-14</th>\n",
              "      <td>6.566134</td>\n",
              "      <td>4.082302</td>\n",
              "      <td>1.793345</td>\n",
              "      <td>3.269777</td>\n",
              "      <td>5.122925</td>\n",
              "      <td>26.799803</td>\n",
              "      <td>2.807782</td>\n",
              "      <td>2.014589</td>\n",
              "      <td>2.530713</td>\n",
              "    </tr>\n",
              "    <tr>\n",
              "      <th>2022-04-18</th>\n",
              "      <td>6.557396</td>\n",
              "      <td>4.111323</td>\n",
              "      <td>1.798379</td>\n",
              "      <td>3.294197</td>\n",
              "      <td>5.135557</td>\n",
              "      <td>27.324643</td>\n",
              "      <td>2.812796</td>\n",
              "      <td>2.014176</td>\n",
              "      <td>2.527165</td>\n",
              "    </tr>\n",
              "  </tbody>\n",
              "</table>\n",
              "<p>1364 rows × 9 columns</p>\n",
              "</div>\n",
              "      <button class=\"colab-df-convert\" onclick=\"convertToInteractive('df-5beb5fb5-5959-4d96-b278-66427e3188b4')\"\n",
              "              title=\"Convert this dataframe to an interactive table.\"\n",
              "              style=\"display:none;\">\n",
              "        \n",
              "  <svg xmlns=\"http://www.w3.org/2000/svg\" height=\"24px\"viewBox=\"0 0 24 24\"\n",
              "       width=\"24px\">\n",
              "    <path d=\"M0 0h24v24H0V0z\" fill=\"none\"/>\n",
              "    <path d=\"M18.56 5.44l.94 2.06.94-2.06 2.06-.94-2.06-.94-.94-2.06-.94 2.06-2.06.94zm-11 1L8.5 8.5l.94-2.06 2.06-.94-2.06-.94L8.5 2.5l-.94 2.06-2.06.94zm10 10l.94 2.06.94-2.06 2.06-.94-2.06-.94-.94-2.06-.94 2.06-2.06.94z\"/><path d=\"M17.41 7.96l-1.37-1.37c-.4-.4-.92-.59-1.43-.59-.52 0-1.04.2-1.43.59L10.3 9.45l-7.72 7.72c-.78.78-.78 2.05 0 2.83L4 21.41c.39.39.9.59 1.41.59.51 0 1.02-.2 1.41-.59l7.78-7.78 2.81-2.81c.8-.78.8-2.07 0-2.86zM5.41 20L4 18.59l7.72-7.72 1.47 1.35L5.41 20z\"/>\n",
              "  </svg>\n",
              "      </button>\n",
              "      \n",
              "  <style>\n",
              "    .colab-df-container {\n",
              "      display:flex;\n",
              "      flex-wrap:wrap;\n",
              "      gap: 12px;\n",
              "    }\n",
              "\n",
              "    .colab-df-convert {\n",
              "      background-color: #E8F0FE;\n",
              "      border: none;\n",
              "      border-radius: 50%;\n",
              "      cursor: pointer;\n",
              "      display: none;\n",
              "      fill: #1967D2;\n",
              "      height: 32px;\n",
              "      padding: 0 0 0 0;\n",
              "      width: 32px;\n",
              "    }\n",
              "\n",
              "    .colab-df-convert:hover {\n",
              "      background-color: #E2EBFA;\n",
              "      box-shadow: 0px 1px 2px rgba(60, 64, 67, 0.3), 0px 1px 3px 1px rgba(60, 64, 67, 0.15);\n",
              "      fill: #174EA6;\n",
              "    }\n",
              "\n",
              "    [theme=dark] .colab-df-convert {\n",
              "      background-color: #3B4455;\n",
              "      fill: #D2E3FC;\n",
              "    }\n",
              "\n",
              "    [theme=dark] .colab-df-convert:hover {\n",
              "      background-color: #434B5C;\n",
              "      box-shadow: 0px 1px 3px 1px rgba(0, 0, 0, 0.15);\n",
              "      filter: drop-shadow(0px 1px 2px rgba(0, 0, 0, 0.3));\n",
              "      fill: #FFFFFF;\n",
              "    }\n",
              "  </style>\n",
              "\n",
              "      <script>\n",
              "        const buttonEl =\n",
              "          document.querySelector('#df-5beb5fb5-5959-4d96-b278-66427e3188b4 button.colab-df-convert');\n",
              "        buttonEl.style.display =\n",
              "          google.colab.kernel.accessAllowed ? 'block' : 'none';\n",
              "\n",
              "        async function convertToInteractive(key) {\n",
              "          const element = document.querySelector('#df-5beb5fb5-5959-4d96-b278-66427e3188b4');\n",
              "          const dataTable =\n",
              "            await google.colab.kernel.invokeFunction('convertToInteractive',\n",
              "                                                     [key], {});\n",
              "          if (!dataTable) return;\n",
              "\n",
              "          const docLinkHtml = 'Like what you see? Visit the ' +\n",
              "            '<a target=\"_blank\" href=https://colab.research.google.com/notebooks/data_table.ipynb>data table notebook</a>'\n",
              "            + ' to learn more about interactive tables.';\n",
              "          element.innerHTML = '';\n",
              "          dataTable['output_type'] = 'display_data';\n",
              "          await google.colab.output.renderOutput(dataTable, element);\n",
              "          const docLink = document.createElement('div');\n",
              "          docLink.innerHTML = docLinkHtml;\n",
              "          element.appendChild(docLink);\n",
              "        }\n",
              "      </script>\n",
              "    </div>\n",
              "  </div>\n",
              "  "
            ]
          },
          "metadata": {},
          "execution_count": 9
        }
      ]
    },
    {
      "cell_type": "code",
      "metadata": {
        "colab": {
          "base_uri": "https://localhost:8080/",
          "height": 331
        },
        "id": "Ag56Cc67dxmC",
        "outputId": "ce56db18-e75d-4e74-c0a3-22c14c3f5021"
      },
      "source": [
        "plt.figure(figsize=(12.2,4.5)) \n",
        "for i in df.columns.values:\n",
        "    plt.plot( df[i],  label=i)\n",
        "plt.title('Precio de las Acciones',fontsize=18)\n",
        "plt.xlabel('Fecha',fontsize=14)\n",
        "plt.ylabel('Precio en USD',fontsize=14)\n",
        "plt.legend(df.columns.values, loc='upper left')\n",
        "plt.show()"
      ],
      "execution_count": null,
      "outputs": [
        {
          "output_type": "display_data",
          "data": {
            "text/plain": [
              "<Figure size 878.4x324 with 1 Axes>"
            ],
            "image/png": "[encoded data removed]"
          },
          "metadata": {
            "needs_background": "light"
          }
        }
      ]
    },
    {
      "cell_type": "markdown",
      "metadata": {
        "id": "N6XM69uidxmD"
      },
      "source": [
        "### Evolución del precio en el tiempo"
      ]
    },
    {
      "cell_type": "markdown",
      "metadata": {
        "id": "R1vbqz3rdxmD"
      },
      "source": [
        "Se realiza un gráfico diferente para ver las acciones que tienen un menor precio."
      ]
    },
    {
      "cell_type": "code",
      "metadata": {
        "id": "XqxGA3v5dxmE",
        "colab": {
          "base_uri": "https://localhost:8080/",
          "height": 331
        },
        "outputId": "53a716d3-a707-4003-81e0-511e3975152e"
      },
      "source": [
        "plt.figure(figsize=(12.2,4.5)) \n",
        "for i in df.columns.values:\n",
        "    plt.plot( df_2[i],  label=i)\n",
        "plt.title('Evolución del Precio',fontsize=18)\n",
        "plt.xlabel('Fecha',fontsize=14)\n",
        "plt.ylabel('Precio en USD',fontsize=14)\n",
        "plt.legend(df.columns.values, loc='upper left')\n",
        "plt.show()"
      ],
      "execution_count": null,
      "outputs": [
        {
          "output_type": "display_data",
          "data": {
            "text/plain": [
              "<Figure size 878.4x324 with 1 Axes>"
            ],
            "image/png": "[encoded data removed]"
          },
          "metadata": {
            "needs_background": "light"
          }
        }
      ]
    },
    {
      "cell_type": "markdown",
      "metadata": {
        "id": "o1KYFa0OdxmE"
      },
      "source": [
        "# Enunciado"
      ]
    },
    {
      "cell_type": "markdown",
      "metadata": {
        "id": "qCTZ10OkdxmE"
      },
      "source": [
        "## 1."
      ]
    },
    {
      "cell_type": "markdown",
      "metadata": {
        "id": "44hcvZrbdxmF"
      },
      "source": [
        "Estimen el  vector  de  retornos  esperados  en  un  año  más  para  los  7  activos.  Discutan claramente cómo lo obtuvieron, y los supuestos involucrados."
      ]
    },
    {
      "cell_type": "markdown",
      "metadata": {
        "id": "5wikUpgVdxmT"
      },
      "source": [
        "Pasamos nuestra base de datos a los retornos logaritmicos de las acciones. "
      ]
    },
    {
      "cell_type": "code",
      "metadata": {
        "id": "YyTZO6jTdxmU",
        "colab": {
          "base_uri": "https://localhost:8080/",
          "height": 237
        },
        "outputId": "c409df5f-eb96-41f9-8dc7-82fdc0c154b0"
      },
      "source": [
        "df = np.log(df).diff().dropna()\n",
        "df.head()"
      ],
      "execution_count": null,
      "outputs": [
        {
          "output_type": "execute_result",
          "data": {
            "text/plain": [
              "                AAPL      AMZN        FB     GOOGL      MSFT      TSLA  \\\n",
              "Date                                                                     \n",
              "2016-11-16  0.026533  0.004363 -0.007365  0.006199  0.013163  0.000870   \n",
              "2016-11-17 -0.000364  0.013188  0.012386  0.007892  0.016460  0.025391   \n",
              "2016-11-18  0.001000  0.004959 -0.006559 -0.013046 -0.004794 -0.019482   \n",
              "2016-11-21  0.015060  0.025765  0.039789  0.011315  0.008415 -0.002706   \n",
              "2016-11-22  0.000626  0.006810 -0.002467  0.000255  0.004263  0.035405   \n",
              "\n",
              "                   V     ^GSPC     ^IXIC  \n",
              "Date                                      \n",
              "2016-11-16  0.021138 -0.001584  0.003587  \n",
              "2016-11-17  0.012287  0.004665  0.007412  \n",
              "2016-11-18 -0.003089 -0.002390 -0.002339  \n",
              "2016-11-21  0.010707  0.007434  0.008859  \n",
              "2016-11-22 -0.021781  0.002163  0.003252  "
            ],
            "text/html": [
              "\n",
              "  <div id=\"df-415bdcb2-714d-426f-9fcf-60c8093c8553\">\n",
              "    <div class=\"colab-df-container\">\n",
              "      <div>\n",
              "<style scoped>\n",
              "    .dataframe tbody tr th:only-of-type {\n",
              "        vertical-align: middle;\n",
              "    }\n",
              "\n",
              "    .dataframe tbody tr th {\n",
              "        vertical-align: top;\n",
              "    }\n",
              "\n",
              "    .dataframe thead th {\n",
              "        text-align: right;\n",
              "    }\n",
              "</style>\n",
              "<table border=\"1\" class=\"dataframe\">\n",
              "  <thead>\n",
              "    <tr style=\"text-align: right;\">\n",
              "      <th></th>\n",
              "      <th>AAPL</th>\n",
              "      <th>AMZN</th>\n",
              "      <th>FB</th>\n",
              "      <th>GOOGL</th>\n",
              "      <th>MSFT</th>\n",
              "      <th>TSLA</th>\n",
              "      <th>V</th>\n",
              "      <th>^GSPC</th>\n",
              "      <th>^IXIC</th>\n",
              "    </tr>\n",
              "    <tr>\n",
              "      <th>Date</th>\n",
              "      <th></th>\n",
              "      <th></th>\n",
              "      <th></th>\n",
              "      <th></th>\n",
              "      <th></th>\n",
              "      <th></th>\n",
              "      <th></th>\n",
              "      <th></th>\n",
              "      <th></th>\n",
              "    </tr>\n",
              "  </thead>\n",
              "  <tbody>\n",
              "    <tr>\n",
              "      <th>2016-11-16</th>\n",
              "      <td>0.026533</td>\n",
              "      <td>0.004363</td>\n",
              "      <td>-0.007365</td>\n",
              "      <td>0.006199</td>\n",
              "      <td>0.013163</td>\n",
              "      <td>0.000870</td>\n",
              "      <td>0.021138</td>\n",
              "      <td>-0.001584</td>\n",
              "      <td>0.003587</td>\n",
              "    </tr>\n",
              "    <tr>\n",
              "      <th>2016-11-17</th>\n",
              "      <td>-0.000364</td>\n",
              "      <td>0.013188</td>\n",
              "      <td>0.012386</td>\n",
              "      <td>0.007892</td>\n",
              "      <td>0.016460</td>\n",
              "      <td>0.025391</td>\n",
              "      <td>0.012287</td>\n",
              "      <td>0.004665</td>\n",
              "      <td>0.007412</td>\n",
              "    </tr>\n",
              "    <tr>\n",
              "      <th>2016-11-18</th>\n",
              "      <td>0.001000</td>\n",
              "      <td>0.004959</td>\n",
              "      <td>-0.006559</td>\n",
              "      <td>-0.013046</td>\n",
              "      <td>-0.004794</td>\n",
              "      <td>-0.019482</td>\n",
              "      <td>-0.003089</td>\n",
              "      <td>-0.002390</td>\n",
              "      <td>-0.002339</td>\n",
              "    </tr>\n",
              "    <tr>\n",
              "      <th>2016-11-21</th>\n",
              "      <td>0.015060</td>\n",
              "      <td>0.025765</td>\n",
              "      <td>0.039789</td>\n",
              "      <td>0.011315</td>\n",
              "      <td>0.008415</td>\n",
              "      <td>-0.002706</td>\n",
              "      <td>0.010707</td>\n",
              "      <td>0.007434</td>\n",
              "      <td>0.008859</td>\n",
              "    </tr>\n",
              "    <tr>\n",
              "      <th>2016-11-22</th>\n",
              "      <td>0.000626</td>\n",
              "      <td>0.006810</td>\n",
              "      <td>-0.002467</td>\n",
              "      <td>0.000255</td>\n",
              "      <td>0.004263</td>\n",
              "      <td>0.035405</td>\n",
              "      <td>-0.021781</td>\n",
              "      <td>0.002163</td>\n",
              "      <td>0.003252</td>\n",
              "    </tr>\n",
              "  </tbody>\n",
              "</table>\n",
              "</div>\n",
              "      <button class=\"colab-df-convert\" onclick=\"convertToInteractive('df-415bdcb2-714d-426f-9fcf-60c8093c8553')\"\n",
              "              title=\"Convert this dataframe to an interactive table.\"\n",
              "              style=\"display:none;\">\n",
              "        \n",
              "  <svg xmlns=\"http://www.w3.org/2000/svg\" height=\"24px\"viewBox=\"0 0 24 24\"\n",
              "       width=\"24px\">\n",
              "    <path d=\"M0 0h24v24H0V0z\" fill=\"none\"/>\n",
              "    <path d=\"M18.56 5.44l.94 2.06.94-2.06 2.06-.94-2.06-.94-.94-2.06-.94 2.06-2.06.94zm-11 1L8.5 8.5l.94-2.06 2.06-.94-2.06-.94L8.5 2.5l-.94 2.06-2.06.94zm10 10l.94 2.06.94-2.06 2.06-.94-2.06-.94-.94-2.06-.94 2.06-2.06.94z\"/><path d=\"M17.41 7.96l-1.37-1.37c-.4-.4-.92-.59-1.43-.59-.52 0-1.04.2-1.43.59L10.3 9.45l-7.72 7.72c-.78.78-.78 2.05 0 2.83L4 21.41c.39.39.9.59 1.41.59.51 0 1.02-.2 1.41-.59l7.78-7.78 2.81-2.81c.8-.78.8-2.07 0-2.86zM5.41 20L4 18.59l7.72-7.72 1.47 1.35L5.41 20z\"/>\n",
              "  </svg>\n",
              "      </button>\n",
              "      \n",
              "  <style>\n",
              "    .colab-df-container {\n",
              "      display:flex;\n",
              "      flex-wrap:wrap;\n",
              "      gap: 12px;\n",
              "    }\n",
              "\n",
              "    .colab-df-convert {\n",
              "      background-color: #E8F0FE;\n",
              "      border: none;\n",
              "      border-radius: 50%;\n",
              "      cursor: pointer;\n",
              "      display: none;\n",
              "      fill: #1967D2;\n",
              "      height: 32px;\n",
              "      padding: 0 0 0 0;\n",
              "      width: 32px;\n",
              "    }\n",
              "\n",
              "    .colab-df-convert:hover {\n",
              "      background-color: #E2EBFA;\n",
              "      box-shadow: 0px 1px 2px rgba(60, 64, 67, 0.3), 0px 1px 3px 1px rgba(60, 64, 67, 0.15);\n",
              "      fill: #174EA6;\n",
              "    }\n",
              "\n",
              "    [theme=dark] .colab-df-convert {\n",
              "      background-color: #3B4455;\n",
              "      fill: #D2E3FC;\n",
              "    }\n",
              "\n",
              "    [theme=dark] .colab-df-convert:hover {\n",
              "      background-color: #434B5C;\n",
              "      box-shadow: 0px 1px 3px 1px rgba(0, 0, 0, 0.15);\n",
              "      filter: drop-shadow(0px 1px 2px rgba(0, 0, 0, 0.3));\n",
              "      fill: #FFFFFF;\n",
              "    }\n",
              "  </style>\n",
              "\n",
              "      <script>\n",
              "        const buttonEl =\n",
              "          document.querySelector('#df-415bdcb2-714d-426f-9fcf-60c8093c8553 button.colab-df-convert');\n",
              "        buttonEl.style.display =\n",
              "          google.colab.kernel.accessAllowed ? 'block' : 'none';\n",
              "\n",
              "        async function convertToInteractive(key) {\n",
              "          const element = document.querySelector('#df-415bdcb2-714d-426f-9fcf-60c8093c8553');\n",
              "          const dataTable =\n",
              "            await google.colab.kernel.invokeFunction('convertToInteractive',\n",
              "                                                     [key], {});\n",
              "          if (!dataTable) return;\n",
              "\n",
              "          const docLinkHtml = 'Like what you see? Visit the ' +\n",
              "            '<a target=\"_blank\" href=https://colab.research.google.com/notebooks/data_table.ipynb>data table notebook</a>'\n",
              "            + ' to learn more about interactive tables.';\n",
              "          element.innerHTML = '';\n",
              "          dataTable['output_type'] = 'display_data';\n",
              "          await google.colab.output.renderOutput(dataTable, element);\n",
              "          const docLink = document.createElement('div');\n",
              "          docLink.innerHTML = docLinkHtml;\n",
              "          element.appendChild(docLink);\n",
              "        }\n",
              "      </script>\n",
              "    </div>\n",
              "  </div>\n",
              "  "
            ]
          },
          "metadata": {},
          "execution_count": 13
        }
      ]
    },
    {
      "cell_type": "markdown",
      "metadata": {
        "id": "Py5hY_BXdxmU"
      },
      "source": [
        "Al hacer la transformación logaritmica perdemos datos de la primera columna. Se procede a eliminarla."
      ]
    },
    {
      "cell_type": "code",
      "metadata": {
        "id": "ukKXpDYGdxmV",
        "colab": {
          "base_uri": "https://localhost:8080/",
          "height": 237
        },
        "outputId": "1530dcb2-71ff-4239-cd58-a0181ae98ee4"
      },
      "source": [
        "df = df.dropna()\n",
        "df.head()"
      ],
      "execution_count": null,
      "outputs": [
        {
          "output_type": "execute_result",
          "data": {
            "text/plain": [
              "                AAPL      AMZN        FB     GOOGL      MSFT      TSLA  \\\n",
              "Date                                                                     \n",
              "2016-11-16  0.026533  0.004363 -0.007365  0.006199  0.013163  0.000870   \n",
              "2016-11-17 -0.000364  0.013188  0.012386  0.007892  0.016460  0.025391   \n",
              "2016-11-18  0.001000  0.004959 -0.006559 -0.013046 -0.004794 -0.019482   \n",
              "2016-11-21  0.015060  0.025765  0.039789  0.011315  0.008415 -0.002706   \n",
              "2016-11-22  0.000626  0.006810 -0.002467  0.000255  0.004263  0.035405   \n",
              "\n",
              "                   V     ^GSPC     ^IXIC  \n",
              "Date                                      \n",
              "2016-11-16  0.021138 -0.001584  0.003587  \n",
              "2016-11-17  0.012287  0.004665  0.007412  \n",
              "2016-11-18 -0.003089 -0.002390 -0.002339  \n",
              "2016-11-21  0.010707  0.007434  0.008859  \n",
              "2016-11-22 -0.021781  0.002163  0.003252  "
            ],
            "text/html": [
              "\n",
              "  <div id=\"df-5fb57201-d926-4199-8451-b75f93545ee6\">\n",
              "    <div class=\"colab-df-container\">\n",
              "      <div>\n",
              "<style scoped>\n",
              "    .dataframe tbody tr th:only-of-type {\n",
              "        vertical-align: middle;\n",
              "    }\n",
              "\n",
              "    .dataframe tbody tr th {\n",
              "        vertical-align: top;\n",
              "    }\n",
              "\n",
              "    .dataframe thead th {\n",
              "        text-align: right;\n",
              "    }\n",
              "</style>\n",
              "<table border=\"1\" class=\"dataframe\">\n",
              "  <thead>\n",
              "    <tr style=\"text-align: right;\">\n",
              "      <th></th>\n",
              "      <th>AAPL</th>\n",
              "      <th>AMZN</th>\n",
              "      <th>FB</th>\n",
              "      <th>GOOGL</th>\n",
              "      <th>MSFT</th>\n",
              "      <th>TSLA</th>\n",
              "      <th>V</th>\n",
              "      <th>^GSPC</th>\n",
              "      <th>^IXIC</th>\n",
              "    </tr>\n",
              "    <tr>\n",
              "      <th>Date</th>\n",
              "      <th></th>\n",
              "      <th></th>\n",
              "      <th></th>\n",
              "      <th></th>\n",
              "      <th></th>\n",
              "      <th></th>\n",
              "      <th></th>\n",
              "      <th></th>\n",
              "      <th></th>\n",
              "    </tr>\n",
              "  </thead>\n",
              "  <tbody>\n",
              "    <tr>\n",
              "      <th>2016-11-16</th>\n",
              "      <td>0.026533</td>\n",
              "      <td>0.004363</td>\n",
              "      <td>-0.007365</td>\n",
              "      <td>0.006199</td>\n",
              "      <td>0.013163</td>\n",
              "      <td>0.000870</td>\n",
              "      <td>0.021138</td>\n",
              "      <td>-0.001584</td>\n",
              "      <td>0.003587</td>\n",
              "    </tr>\n",
              "    <tr>\n",
              "      <th>2016-11-17</th>\n",
              "      <td>-0.000364</td>\n",
              "      <td>0.013188</td>\n",
              "      <td>0.012386</td>\n",
              "      <td>0.007892</td>\n",
              "      <td>0.016460</td>\n",
              "      <td>0.025391</td>\n",
              "      <td>0.012287</td>\n",
              "      <td>0.004665</td>\n",
              "      <td>0.007412</td>\n",
              "    </tr>\n",
              "    <tr>\n",
              "      <th>2016-11-18</th>\n",
              "      <td>0.001000</td>\n",
              "      <td>0.004959</td>\n",
              "      <td>-0.006559</td>\n",
              "      <td>-0.013046</td>\n",
              "      <td>-0.004794</td>\n",
              "      <td>-0.019482</td>\n",
              "      <td>-0.003089</td>\n",
              "      <td>-0.002390</td>\n",
              "      <td>-0.002339</td>\n",
              "    </tr>\n",
              "    <tr>\n",
              "      <th>2016-11-21</th>\n",
              "      <td>0.015060</td>\n",
              "      <td>0.025765</td>\n",
              "      <td>0.039789</td>\n",
              "      <td>0.011315</td>\n",
              "      <td>0.008415</td>\n",
              "      <td>-0.002706</td>\n",
              "      <td>0.010707</td>\n",
              "      <td>0.007434</td>\n",
              "      <td>0.008859</td>\n",
              "    </tr>\n",
              "    <tr>\n",
              "      <th>2016-11-22</th>\n",
              "      <td>0.000626</td>\n",
              "      <td>0.006810</td>\n",
              "      <td>-0.002467</td>\n",
              "      <td>0.000255</td>\n",
              "      <td>0.004263</td>\n",
              "      <td>0.035405</td>\n",
              "      <td>-0.021781</td>\n",
              "      <td>0.002163</td>\n",
              "      <td>0.003252</td>\n",
              "    </tr>\n",
              "  </tbody>\n",
              "</table>\n",
              "</div>\n",
              "      <button class=\"colab-df-convert\" onclick=\"convertToInteractive('df-5fb57201-d926-4199-8451-b75f93545ee6')\"\n",
              "              title=\"Convert this dataframe to an interactive table.\"\n",
              "              style=\"display:none;\">\n",
              "        \n",
              "  <svg xmlns=\"http://www.w3.org/2000/svg\" height=\"24px\"viewBox=\"0 0 24 24\"\n",
              "       width=\"24px\">\n",
              "    <path d=\"M0 0h24v24H0V0z\" fill=\"none\"/>\n",
              "    <path d=\"M18.56 5.44l.94 2.06.94-2.06 2.06-.94-2.06-.94-.94-2.06-.94 2.06-2.06.94zm-11 1L8.5 8.5l.94-2.06 2.06-.94-2.06-.94L8.5 2.5l-.94 2.06-2.06.94zm10 10l.94 2.06.94-2.06 2.06-.94-2.06-.94-.94-2.06-.94 2.06-2.06.94z\"/><path d=\"M17.41 7.96l-1.37-1.37c-.4-.4-.92-.59-1.43-.59-.52 0-1.04.2-1.43.59L10.3 9.45l-7.72 7.72c-.78.78-.78 2.05 0 2.83L4 21.41c.39.39.9.59 1.41.59.51 0 1.02-.2 1.41-.59l7.78-7.78 2.81-2.81c.8-.78.8-2.07 0-2.86zM5.41 20L4 18.59l7.72-7.72 1.47 1.35L5.41 20z\"/>\n",
              "  </svg>\n",
              "      </button>\n",
              "      \n",
              "  <style>\n",
              "    .colab-df-container {\n",
              "      display:flex;\n",
              "      flex-wrap:wrap;\n",
              "      gap: 12px;\n",
              "    }\n",
              "\n",
              "    .colab-df-convert {\n",
              "      background-color: #E8F0FE;\n",
              "      border: none;\n",
              "      border-radius: 50%;\n",
              "      cursor: pointer;\n",
              "      display: none;\n",
              "      fill: #1967D2;\n",
              "      height: 32px;\n",
              "      padding: 0 0 0 0;\n",
              "      width: 32px;\n",
              "    }\n",
              "\n",
              "    .colab-df-convert:hover {\n",
              "      background-color: #E2EBFA;\n",
              "      box-shadow: 0px 1px 2px rgba(60, 64, 67, 0.3), 0px 1px 3px 1px rgba(60, 64, 67, 0.15);\n",
              "      fill: #174EA6;\n",
              "    }\n",
              "\n",
              "    [theme=dark] .colab-df-convert {\n",
              "      background-color: #3B4455;\n",
              "      fill: #D2E3FC;\n",
              "    }\n",
              "\n",
              "    [theme=dark] .colab-df-convert:hover {\n",
              "      background-color: #434B5C;\n",
              "      box-shadow: 0px 1px 3px 1px rgba(0, 0, 0, 0.15);\n",
              "      filter: drop-shadow(0px 1px 2px rgba(0, 0, 0, 0.3));\n",
              "      fill: #FFFFFF;\n",
              "    }\n",
              "  </style>\n",
              "\n",
              "      <script>\n",
              "        const buttonEl =\n",
              "          document.querySelector('#df-5fb57201-d926-4199-8451-b75f93545ee6 button.colab-df-convert');\n",
              "        buttonEl.style.display =\n",
              "          google.colab.kernel.accessAllowed ? 'block' : 'none';\n",
              "\n",
              "        async function convertToInteractive(key) {\n",
              "          const element = document.querySelector('#df-5fb57201-d926-4199-8451-b75f93545ee6');\n",
              "          const dataTable =\n",
              "            await google.colab.kernel.invokeFunction('convertToInteractive',\n",
              "                                                     [key], {});\n",
              "          if (!dataTable) return;\n",
              "\n",
              "          const docLinkHtml = 'Like what you see? Visit the ' +\n",
              "            '<a target=\"_blank\" href=https://colab.research.google.com/notebooks/data_table.ipynb>data table notebook</a>'\n",
              "            + ' to learn more about interactive tables.';\n",
              "          element.innerHTML = '';\n",
              "          dataTable['output_type'] = 'display_data';\n",
              "          await google.colab.output.renderOutput(dataTable, element);\n",
              "          const docLink = document.createElement('div');\n",
              "          docLink.innerHTML = docLinkHtml;\n",
              "          element.appendChild(docLink);\n",
              "        }\n",
              "      </script>\n",
              "    </div>\n",
              "  </div>\n",
              "  "
            ]
          },
          "metadata": {},
          "execution_count": 14
        }
      ]
    },
    {
      "cell_type": "markdown",
      "metadata": {
        "id": "v0v-QOmndxmX"
      },
      "source": [
        "### Estimación Retorno Esperado: CAPM"
      ]
    },
    {
      "cell_type": "markdown",
      "metadata": {
        "id": "XPEwblXfdxmX"
      },
      "source": [
        "Ya que ya se calcló el retorno promedio anual para cada una de las acciones, calculmenos CAPM. Gracias a Python hay una función que calcula directamente CAPM. Para eso debemos instalar la libreria Pypfopt."
      ]
    },
    {
      "cell_type": "code",
      "metadata": {
        "colab": {
          "base_uri": "https://localhost:8080/"
        },
        "id": "jQ-j08Bl65qQ",
        "outputId": "6d3af861-157f-4b01-cb4c-26052055a167"
      },
      "source": [
        "pip install PyPortfolioOpt"
      ],
      "execution_count": null,
      "outputs": [
        {
          "output_type": "stream",
          "name": "stdout",
          "text": [
            "Collecting PyPortfolioOpt\n",
            "  Downloading pyportfolioopt-1.5.2-py3-none-any.whl (61 kB)\n",
            "\u001b[?25l\r\u001b[K     |█████▍                          | 10 kB 20.6 MB/s eta 0:00:01\r\u001b[K     |██████████▊                     | 20 kB 26.9 MB/s eta 0:00:01\r\u001b[K     |████████████████                | 30 kB 29.8 MB/s eta 0:00:01\r\u001b[K     |█████████████████████▍          | 40 kB 31.0 MB/s eta 0:00:01\r\u001b[K     |██████████████████████████▊     | 51 kB 33.7 MB/s eta 0:00:01\r\u001b[K     |████████████████████████████████| 61 kB 6.4 MB/s \n",
            "\u001b[?25hRequirement already satisfied: scipy<2.0,>=1.3 in /usr/local/lib/python3.7/dist-packages (from PyPortfolioOpt) (1.4.1)\n",
            "Requirement already satisfied: pandas>=0.19 in /usr/local/lib/python3.7/dist-packages (from PyPortfolioOpt) (1.3.5)\n",
            "Requirement already satisfied: numpy<2.0,>=1.12 in /usr/local/lib/python3.7/dist-packages (from PyPortfolioOpt) (1.21.6)\n",
            "Collecting cvxpy<2.0.0,>=1.1.10\n",
            "  Downloading cvxpy-1.2.0-cp37-cp37m-manylinux_2_24_x86_64.whl (2.8 MB)\n",
            "\u001b[K     |████████████████████████████████| 2.8 MB 47.2 MB/s \n",
            "\u001b[?25hRequirement already satisfied: ecos>=2 in /usr/local/lib/python3.7/dist-packages (from cvxpy<2.0.0,>=1.1.10->PyPortfolioOpt) (2.0.10)\n",
            "Requirement already satisfied: scs>=1.1.6 in /usr/local/lib/python3.7/dist-packages (from cvxpy<2.0.0,>=1.1.10->PyPortfolioOpt) (3.2.0)\n",
            "Requirement already satisfied: osqp>=0.4.1 in /usr/local/lib/python3.7/dist-packages (from cvxpy<2.0.0,>=1.1.10->PyPortfolioOpt) (0.6.2.post0)\n",
            "Requirement already satisfied: qdldl in /usr/local/lib/python3.7/dist-packages (from osqp>=0.4.1->cvxpy<2.0.0,>=1.1.10->PyPortfolioOpt) (0.1.5.post2)\n",
            "Requirement already satisfied: python-dateutil>=2.7.3 in /usr/local/lib/python3.7/dist-packages (from pandas>=0.19->PyPortfolioOpt) (2.8.2)\n",
            "Requirement already satisfied: pytz>=2017.3 in /usr/local/lib/python3.7/dist-packages (from pandas>=0.19->PyPortfolioOpt) (2022.1)\n",
            "Requirement already satisfied: six>=1.5 in /usr/local/lib/python3.7/dist-packages (from python-dateutil>=2.7.3->pandas>=0.19->PyPortfolioOpt) (1.15.0)\n",
            "Installing collected packages: cvxpy, PyPortfolioOpt\n",
            "  Attempting uninstall: cvxpy\n",
            "    Found existing installation: cvxpy 1.0.31\n",
            "    Uninstalling cvxpy-1.0.31:\n",
            "      Successfully uninstalled cvxpy-1.0.31\n",
            "Successfully installed PyPortfolioOpt-1.5.2 cvxpy-1.2.0\n"
          ]
        }
      ]
    },
    {
      "cell_type": "code",
      "metadata": {
        "id": "apT2K9q7dxmX"
      },
      "source": [
        "from pypfopt.efficient_frontier import EfficientFrontier\n",
        "from pypfopt import risk_models\n",
        "from pypfopt import expected_returns\n",
        "from pypfopt import plotting"
      ],
      "execution_count": null,
      "outputs": []
    },
    {
      "cell_type": "markdown",
      "metadata": {
        "id": "RAY2YMO0dxmX"
      },
      "source": [
        "Primero voy a separar el Benchmark del resto de los activos. Ya que en la formula los piden separados."
      ]
    },
    {
      "cell_type": "code",
      "metadata": {
        "id": "ks52gPS-dxmX",
        "colab": {
          "base_uri": "https://localhost:8080/",
          "height": 455
        },
        "outputId": "ea8a63d7-1b67-40e8-ba41-0e846f9c7041"
      },
      "source": [
        "df1 =  df.loc[:, df.columns != '^GSPC']\n",
        "df1"
      ],
      "execution_count": null,
      "outputs": [
        {
          "output_type": "execute_result",
          "data": {
            "text/plain": [
              "                AAPL      AMZN        FB     GOOGL      MSFT      TSLA  \\\n",
              "Date                                                                     \n",
              "2016-11-16  0.026533  0.004363 -0.007365  0.006199  0.013163  0.000870   \n",
              "2016-11-17 -0.000364  0.013188  0.012386  0.007892  0.016460  0.025391   \n",
              "2016-11-18  0.001000  0.004959 -0.006559 -0.013046 -0.004794 -0.019482   \n",
              "2016-11-21  0.015060  0.025765  0.039789  0.011315  0.008415 -0.002706   \n",
              "2016-11-22  0.000626  0.006810 -0.002467  0.000255  0.004263  0.035405   \n",
              "...              ...       ...       ...       ...       ...       ...   \n",
              "2022-04-11 -0.025847 -0.021851 -0.026757 -0.034065 -0.040230 -0.049535   \n",
              "2022-04-12  0.011458 -0.002216 -0.010776 -0.008646 -0.011281  0.011229   \n",
              "2022-04-13  0.016210  0.031038  0.003962  0.016921  0.019520  0.035259   \n",
              "2022-04-14 -0.030447 -0.024962 -0.022627 -0.024660 -0.027458 -0.037237   \n",
              "2022-04-18 -0.001332  0.007084  0.002803  0.007441  0.002463  0.019394   \n",
              "\n",
              "                   V     ^IXIC  \n",
              "Date                            \n",
              "2016-11-16  0.021138  0.003587  \n",
              "2016-11-17  0.012287  0.007412  \n",
              "2016-11-18 -0.003089 -0.002339  \n",
              "2016-11-21  0.010707  0.008859  \n",
              "2016-11-22 -0.021781  0.003252  \n",
              "...              ...       ...  \n",
              "2022-04-11 -0.010331 -0.022052  \n",
              "2022-04-12 -0.015723 -0.003016  \n",
              "2022-04-13  0.008807  0.020139  \n",
              "2022-04-14 -0.002253 -0.021673  \n",
              "2022-04-18  0.001784 -0.001403  \n",
              "\n",
              "[1363 rows x 8 columns]"
            ],
            "text/html": [
              "\n",
              "  <div id=\"df-e02b60d4-416e-4d36-b424-c669b9a86cfd\">\n",
              "    <div class=\"colab-df-container\">\n",
              "      <div>\n",
              "<style scoped>\n",
              "    .dataframe tbody tr th:only-of-type {\n",
              "        vertical-align: middle;\n",
              "    }\n",
              "\n",
              "    .dataframe tbody tr th {\n",
              "        vertical-align: top;\n",
              "    }\n",
              "\n",
              "    .dataframe thead th {\n",
              "        text-align: right;\n",
              "    }\n",
              "</style>\n",
              "<table border=\"1\" class=\"dataframe\">\n",
              "  <thead>\n",
              "    <tr style=\"text-align: right;\">\n",
              "      <th></th>\n",
              "      <th>AAPL</th>\n",
              "      <th>AMZN</th>\n",
              "      <th>FB</th>\n",
              "      <th>GOOGL</th>\n",
              "      <th>MSFT</th>\n",
              "      <th>TSLA</th>\n",
              "      <th>V</th>\n",
              "      <th>^IXIC</th>\n",
              "    </tr>\n",
              "    <tr>\n",
              "      <th>Date</th>\n",
              "      <th></th>\n",
              "      <th></th>\n",
              "      <th></th>\n",
              "      <th></th>\n",
              "      <th></th>\n",
              "      <th></th>\n",
              "      <th></th>\n",
              "      <th></th>\n",
              "    </tr>\n",
              "  </thead>\n",
              "  <tbody>\n",
              "    <tr>\n",
              "      <th>2016-11-16</th>\n",
              "      <td>0.026533</td>\n",
              "      <td>0.004363</td>\n",
              "      <td>-0.007365</td>\n",
              "      <td>0.006199</td>\n",
              "      <td>0.013163</td>\n",
              "      <td>0.000870</td>\n",
              "      <td>0.021138</td>\n",
              "      <td>0.003587</td>\n",
              "    </tr>\n",
              "    <tr>\n",
              "      <th>2016-11-17</th>\n",
              "      <td>-0.000364</td>\n",
              "      <td>0.013188</td>\n",
              "      <td>0.012386</td>\n",
              "      <td>0.007892</td>\n",
              "      <td>0.016460</td>\n",
              "      <td>0.025391</td>\n",
              "      <td>0.012287</td>\n",
              "      <td>0.007412</td>\n",
              "    </tr>\n",
              "    <tr>\n",
              "      <th>2016-11-18</th>\n",
              "      <td>0.001000</td>\n",
              "      <td>0.004959</td>\n",
              "      <td>-0.006559</td>\n",
              "      <td>-0.013046</td>\n",
              "      <td>-0.004794</td>\n",
              "      <td>-0.019482</td>\n",
              "      <td>-0.003089</td>\n",
              "      <td>-0.002339</td>\n",
              "    </tr>\n",
              "    <tr>\n",
              "      <th>2016-11-21</th>\n",
              "      <td>0.015060</td>\n",
              "      <td>0.025765</td>\n",
              "      <td>0.039789</td>\n",
              "      <td>0.011315</td>\n",
              "      <td>0.008415</td>\n",
              "      <td>-0.002706</td>\n",
              "      <td>0.010707</td>\n",
              "      <td>0.008859</td>\n",
              "    </tr>\n",
              "    <tr>\n",
              "      <th>2016-11-22</th>\n",
              "      <td>0.000626</td>\n",
              "      <td>0.006810</td>\n",
              "      <td>-0.002467</td>\n",
              "      <td>0.000255</td>\n",
              "      <td>0.004263</td>\n",
              "      <td>0.035405</td>\n",
              "      <td>-0.021781</td>\n",
              "      <td>0.003252</td>\n",
              "    </tr>\n",
              "    <tr>\n",
              "      <th>...</th>\n",
              "      <td>...</td>\n",
              "      <td>...</td>\n",
              "      <td>...</td>\n",
              "      <td>...</td>\n",
              "      <td>...</td>\n",
              "      <td>...</td>\n",
              "      <td>...</td>\n",
              "      <td>...</td>\n",
              "    </tr>\n",
              "    <tr>\n",
              "      <th>2022-04-11</th>\n",
              "      <td>-0.025847</td>\n",
              "      <td>-0.021851</td>\n",
              "      <td>-0.026757</td>\n",
              "      <td>-0.034065</td>\n",
              "      <td>-0.040230</td>\n",
              "      <td>-0.049535</td>\n",
              "      <td>-0.010331</td>\n",
              "      <td>-0.022052</td>\n",
              "    </tr>\n",
              "    <tr>\n",
              "      <th>2022-04-12</th>\n",
              "      <td>0.011458</td>\n",
              "      <td>-0.002216</td>\n",
              "      <td>-0.010776</td>\n",
              "      <td>-0.008646</td>\n",
              "      <td>-0.011281</td>\n",
              "      <td>0.011229</td>\n",
              "      <td>-0.015723</td>\n",
              "      <td>-0.003016</td>\n",
              "    </tr>\n",
              "    <tr>\n",
              "      <th>2022-04-13</th>\n",
              "      <td>0.016210</td>\n",
              "      <td>0.031038</td>\n",
              "      <td>0.003962</td>\n",
              "      <td>0.016921</td>\n",
              "      <td>0.019520</td>\n",
              "      <td>0.035259</td>\n",
              "      <td>0.008807</td>\n",
              "      <td>0.020139</td>\n",
              "    </tr>\n",
              "    <tr>\n",
              "      <th>2022-04-14</th>\n",
              "      <td>-0.030447</td>\n",
              "      <td>-0.024962</td>\n",
              "      <td>-0.022627</td>\n",
              "      <td>-0.024660</td>\n",
              "      <td>-0.027458</td>\n",
              "      <td>-0.037237</td>\n",
              "      <td>-0.002253</td>\n",
              "      <td>-0.021673</td>\n",
              "    </tr>\n",
              "    <tr>\n",
              "      <th>2022-04-18</th>\n",
              "      <td>-0.001332</td>\n",
              "      <td>0.007084</td>\n",
              "      <td>0.002803</td>\n",
              "      <td>0.007441</td>\n",
              "      <td>0.002463</td>\n",
              "      <td>0.019394</td>\n",
              "      <td>0.001784</td>\n",
              "      <td>-0.001403</td>\n",
              "    </tr>\n",
              "  </tbody>\n",
              "</table>\n",
              "<p>1363 rows × 8 columns</p>\n",
              "</div>\n",
              "      <button class=\"colab-df-convert\" onclick=\"convertToInteractive('df-e02b60d4-416e-4d36-b424-c669b9a86cfd')\"\n",
              "              title=\"Convert this dataframe to an interactive table.\"\n",
              "              style=\"display:none;\">\n",
              "        \n",
              "  <svg xmlns=\"http://www.w3.org/2000/svg\" height=\"24px\"viewBox=\"0 0 24 24\"\n",
              "       width=\"24px\">\n",
              "    <path d=\"M0 0h24v24H0V0z\" fill=\"none\"/>\n",
              "    <path d=\"M18.56 5.44l.94 2.06.94-2.06 2.06-.94-2.06-.94-.94-2.06-.94 2.06-2.06.94zm-11 1L8.5 8.5l.94-2.06 2.06-.94-2.06-.94L8.5 2.5l-.94 2.06-2.06.94zm10 10l.94 2.06.94-2.06 2.06-.94-2.06-.94-.94-2.06-.94 2.06-2.06.94z\"/><path d=\"M17.41 7.96l-1.37-1.37c-.4-.4-.92-.59-1.43-.59-.52 0-1.04.2-1.43.59L10.3 9.45l-7.72 7.72c-.78.78-.78 2.05 0 2.83L4 21.41c.39.39.9.59 1.41.59.51 0 1.02-.2 1.41-.59l7.78-7.78 2.81-2.81c.8-.78.8-2.07 0-2.86zM5.41 20L4 18.59l7.72-7.72 1.47 1.35L5.41 20z\"/>\n",
              "  </svg>\n",
              "      </button>\n",
              "      \n",
              "  <style>\n",
              "    .colab-df-container {\n",
              "      display:flex;\n",
              "      flex-wrap:wrap;\n",
              "      gap: 12px;\n",
              "    }\n",
              "\n",
              "    .colab-df-convert {\n",
              "      background-color: #E8F0FE;\n",
              "      border: none;\n",
              "      border-radius: 50%;\n",
              "      cursor: pointer;\n",
              "      display: none;\n",
              "      fill: #1967D2;\n",
              "      height: 32px;\n",
              "      padding: 0 0 0 0;\n",
              "      width: 32px;\n",
              "    }\n",
              "\n",
              "    .colab-df-convert:hover {\n",
              "      background-color: #E2EBFA;\n",
              "      box-shadow: 0px 1px 2px rgba(60, 64, 67, 0.3), 0px 1px 3px 1px rgba(60, 64, 67, 0.15);\n",
              "      fill: #174EA6;\n",
              "    }\n",
              "\n",
              "    [theme=dark] .colab-df-convert {\n",
              "      background-color: #3B4455;\n",
              "      fill: #D2E3FC;\n",
              "    }\n",
              "\n",
              "    [theme=dark] .colab-df-convert:hover {\n",
              "      background-color: #434B5C;\n",
              "      box-shadow: 0px 1px 3px 1px rgba(0, 0, 0, 0.15);\n",
              "      filter: drop-shadow(0px 1px 2px rgba(0, 0, 0, 0.3));\n",
              "      fill: #FFFFFF;\n",
              "    }\n",
              "  </style>\n",
              "\n",
              "      <script>\n",
              "        const buttonEl =\n",
              "          document.querySelector('#df-e02b60d4-416e-4d36-b424-c669b9a86cfd button.colab-df-convert');\n",
              "        buttonEl.style.display =\n",
              "          google.colab.kernel.accessAllowed ? 'block' : 'none';\n",
              "\n",
              "        async function convertToInteractive(key) {\n",
              "          const element = document.querySelector('#df-e02b60d4-416e-4d36-b424-c669b9a86cfd');\n",
              "          const dataTable =\n",
              "            await google.colab.kernel.invokeFunction('convertToInteractive',\n",
              "                                                     [key], {});\n",
              "          if (!dataTable) return;\n",
              "\n",
              "          const docLinkHtml = 'Like what you see? Visit the ' +\n",
              "            '<a target=\"_blank\" href=https://colab.research.google.com/notebooks/data_table.ipynb>data table notebook</a>'\n",
              "            + ' to learn more about interactive tables.';\n",
              "          element.innerHTML = '';\n",
              "          dataTable['output_type'] = 'display_data';\n",
              "          await google.colab.output.renderOutput(dataTable, element);\n",
              "          const docLink = document.createElement('div');\n",
              "          docLink.innerHTML = docLinkHtml;\n",
              "          element.appendChild(docLink);\n",
              "        }\n",
              "      </script>\n",
              "    </div>\n",
              "  </div>\n",
              "  "
            ]
          },
          "metadata": {},
          "execution_count": 17
        }
      ]
    },
    {
      "cell_type": "code",
      "metadata": {
        "id": "M14HAaoEdxmY",
        "colab": {
          "base_uri": "https://localhost:8080/",
          "height": 455
        },
        "outputId": "11f3daff-da52-4bb4-c129-5afe226e1df7"
      },
      "source": [
        "df_activos =  df1.loc[:, df1.columns != '^IXIC']\n",
        "df_activos"
      ],
      "execution_count": null,
      "outputs": [
        {
          "output_type": "execute_result",
          "data": {
            "text/plain": [
              "                AAPL      AMZN        FB     GOOGL      MSFT      TSLA  \\\n",
              "Date                                                                     \n",
              "2016-11-16  0.026533  0.004363 -0.007365  0.006199  0.013163  0.000870   \n",
              "2016-11-17 -0.000364  0.013188  0.012386  0.007892  0.016460  0.025391   \n",
              "2016-11-18  0.001000  0.004959 -0.006559 -0.013046 -0.004794 -0.019482   \n",
              "2016-11-21  0.015060  0.025765  0.039789  0.011315  0.008415 -0.002706   \n",
              "2016-11-22  0.000626  0.006810 -0.002467  0.000255  0.004263  0.035405   \n",
              "...              ...       ...       ...       ...       ...       ...   \n",
              "2022-04-11 -0.025847 -0.021851 -0.026757 -0.034065 -0.040230 -0.049535   \n",
              "2022-04-12  0.011458 -0.002216 -0.010776 -0.008646 -0.011281  0.011229   \n",
              "2022-04-13  0.016210  0.031038  0.003962  0.016921  0.019520  0.035259   \n",
              "2022-04-14 -0.030447 -0.024962 -0.022627 -0.024660 -0.027458 -0.037237   \n",
              "2022-04-18 -0.001332  0.007084  0.002803  0.007441  0.002463  0.019394   \n",
              "\n",
              "                   V  \n",
              "Date                  \n",
              "2016-11-16  0.021138  \n",
              "2016-11-17  0.012287  \n",
              "2016-11-18 -0.003089  \n",
              "2016-11-21  0.010707  \n",
              "2016-11-22 -0.021781  \n",
              "...              ...  \n",
              "2022-04-11 -0.010331  \n",
              "2022-04-12 -0.015723  \n",
              "2022-04-13  0.008807  \n",
              "2022-04-14 -0.002253  \n",
              "2022-04-18  0.001784  \n",
              "\n",
              "[1363 rows x 7 columns]"
            ],
            "text/html": [
              "\n",
              "  <div id=\"df-afe21d7c-5013-40b2-ba7a-4966796e0555\">\n",
              "    <div class=\"colab-df-container\">\n",
              "      <div>\n",
              "<style scoped>\n",
              "    .dataframe tbody tr th:only-of-type {\n",
              "        vertical-align: middle;\n",
              "    }\n",
              "\n",
              "    .dataframe tbody tr th {\n",
              "        vertical-align: top;\n",
              "    }\n",
              "\n",
              "    .dataframe thead th {\n",
              "        text-align: right;\n",
              "    }\n",
              "</style>\n",
              "<table border=\"1\" class=\"dataframe\">\n",
              "  <thead>\n",
              "    <tr style=\"text-align: right;\">\n",
              "      <th></th>\n",
              "      <th>AAPL</th>\n",
              "      <th>AMZN</th>\n",
              "      <th>FB</th>\n",
              "      <th>GOOGL</th>\n",
              "      <th>MSFT</th>\n",
              "      <th>TSLA</th>\n",
              "      <th>V</th>\n",
              "    </tr>\n",
              "    <tr>\n",
              "      <th>Date</th>\n",
              "      <th></th>\n",
              "      <th></th>\n",
              "      <th></th>\n",
              "      <th></th>\n",
              "      <th></th>\n",
              "      <th></th>\n",
              "      <th></th>\n",
              "    </tr>\n",
              "  </thead>\n",
              "  <tbody>\n",
              "    <tr>\n",
              "      <th>2016-11-16</th>\n",
              "      <td>0.026533</td>\n",
              "      <td>0.004363</td>\n",
              "      <td>-0.007365</td>\n",
              "      <td>0.006199</td>\n",
              "      <td>0.013163</td>\n",
              "      <td>0.000870</td>\n",
              "      <td>0.021138</td>\n",
              "    </tr>\n",
              "    <tr>\n",
              "      <th>2016-11-17</th>\n",
              "      <td>-0.000364</td>\n",
              "      <td>0.013188</td>\n",
              "      <td>0.012386</td>\n",
              "      <td>0.007892</td>\n",
              "      <td>0.016460</td>\n",
              "      <td>0.025391</td>\n",
              "      <td>0.012287</td>\n",
              "    </tr>\n",
              "    <tr>\n",
              "      <th>2016-11-18</th>\n",
              "      <td>0.001000</td>\n",
              "      <td>0.004959</td>\n",
              "      <td>-0.006559</td>\n",
              "      <td>-0.013046</td>\n",
              "      <td>-0.004794</td>\n",
              "      <td>-0.019482</td>\n",
              "      <td>-0.003089</td>\n",
              "    </tr>\n",
              "    <tr>\n",
              "      <th>2016-11-21</th>\n",
              "      <td>0.015060</td>\n",
              "      <td>0.025765</td>\n",
              "      <td>0.039789</td>\n",
              "      <td>0.011315</td>\n",
              "      <td>0.008415</td>\n",
              "      <td>-0.002706</td>\n",
              "      <td>0.010707</td>\n",
              "    </tr>\n",
              "    <tr>\n",
              "      <th>2016-11-22</th>\n",
              "      <td>0.000626</td>\n",
              "      <td>0.006810</td>\n",
              "      <td>-0.002467</td>\n",
              "      <td>0.000255</td>\n",
              "      <td>0.004263</td>\n",
              "      <td>0.035405</td>\n",
              "      <td>-0.021781</td>\n",
              "    </tr>\n",
              "    <tr>\n",
              "      <th>...</th>\n",
              "      <td>...</td>\n",
              "      <td>...</td>\n",
              "      <td>...</td>\n",
              "      <td>...</td>\n",
              "      <td>...</td>\n",
              "      <td>...</td>\n",
              "      <td>...</td>\n",
              "    </tr>\n",
              "    <tr>\n",
              "      <th>2022-04-11</th>\n",
              "      <td>-0.025847</td>\n",
              "      <td>-0.021851</td>\n",
              "      <td>-0.026757</td>\n",
              "      <td>-0.034065</td>\n",
              "      <td>-0.040230</td>\n",
              "      <td>-0.049535</td>\n",
              "      <td>-0.010331</td>\n",
              "    </tr>\n",
              "    <tr>\n",
              "      <th>2022-04-12</th>\n",
              "      <td>0.011458</td>\n",
              "      <td>-0.002216</td>\n",
              "      <td>-0.010776</td>\n",
              "      <td>-0.008646</td>\n",
              "      <td>-0.011281</td>\n",
              "      <td>0.011229</td>\n",
              "      <td>-0.015723</td>\n",
              "    </tr>\n",
              "    <tr>\n",
              "      <th>2022-04-13</th>\n",
              "      <td>0.016210</td>\n",
              "      <td>0.031038</td>\n",
              "      <td>0.003962</td>\n",
              "      <td>0.016921</td>\n",
              "      <td>0.019520</td>\n",
              "      <td>0.035259</td>\n",
              "      <td>0.008807</td>\n",
              "    </tr>\n",
              "    <tr>\n",
              "      <th>2022-04-14</th>\n",
              "      <td>-0.030447</td>\n",
              "      <td>-0.024962</td>\n",
              "      <td>-0.022627</td>\n",
              "      <td>-0.024660</td>\n",
              "      <td>-0.027458</td>\n",
              "      <td>-0.037237</td>\n",
              "      <td>-0.002253</td>\n",
              "    </tr>\n",
              "    <tr>\n",
              "      <th>2022-04-18</th>\n",
              "      <td>-0.001332</td>\n",
              "      <td>0.007084</td>\n",
              "      <td>0.002803</td>\n",
              "      <td>0.007441</td>\n",
              "      <td>0.002463</td>\n",
              "      <td>0.019394</td>\n",
              "      <td>0.001784</td>\n",
              "    </tr>\n",
              "  </tbody>\n",
              "</table>\n",
              "<p>1363 rows × 7 columns</p>\n",
              "</div>\n",
              "      <button class=\"colab-df-convert\" onclick=\"convertToInteractive('df-afe21d7c-5013-40b2-ba7a-4966796e0555')\"\n",
              "              title=\"Convert this dataframe to an interactive table.\"\n",
              "              style=\"display:none;\">\n",
              "        \n",
              "  <svg xmlns=\"http://www.w3.org/2000/svg\" height=\"24px\"viewBox=\"0 0 24 24\"\n",
              "       width=\"24px\">\n",
              "    <path d=\"M0 0h24v24H0V0z\" fill=\"none\"/>\n",
              "    <path d=\"M18.56 5.44l.94 2.06.94-2.06 2.06-.94-2.06-.94-.94-2.06-.94 2.06-2.06.94zm-11 1L8.5 8.5l.94-2.06 2.06-.94-2.06-.94L8.5 2.5l-.94 2.06-2.06.94zm10 10l.94 2.06.94-2.06 2.06-.94-2.06-.94-.94-2.06-.94 2.06-2.06.94z\"/><path d=\"M17.41 7.96l-1.37-1.37c-.4-.4-.92-.59-1.43-.59-.52 0-1.04.2-1.43.59L10.3 9.45l-7.72 7.72c-.78.78-.78 2.05 0 2.83L4 21.41c.39.39.9.59 1.41.59.51 0 1.02-.2 1.41-.59l7.78-7.78 2.81-2.81c.8-.78.8-2.07 0-2.86zM5.41 20L4 18.59l7.72-7.72 1.47 1.35L5.41 20z\"/>\n",
              "  </svg>\n",
              "      </button>\n",
              "      \n",
              "  <style>\n",
              "    .colab-df-container {\n",
              "      display:flex;\n",
              "      flex-wrap:wrap;\n",
              "      gap: 12px;\n",
              "    }\n",
              "\n",
              "    .colab-df-convert {\n",
              "      background-color: #E8F0FE;\n",
              "      border: none;\n",
              "      border-radius: 50%;\n",
              "      cursor: pointer;\n",
              "      display: none;\n",
              "      fill: #1967D2;\n",
              "      height: 32px;\n",
              "      padding: 0 0 0 0;\n",
              "      width: 32px;\n",
              "    }\n",
              "\n",
              "    .colab-df-convert:hover {\n",
              "      background-color: #E2EBFA;\n",
              "      box-shadow: 0px 1px 2px rgba(60, 64, 67, 0.3), 0px 1px 3px 1px rgba(60, 64, 67, 0.15);\n",
              "      fill: #174EA6;\n",
              "    }\n",
              "\n",
              "    [theme=dark] .colab-df-convert {\n",
              "      background-color: #3B4455;\n",
              "      fill: #D2E3FC;\n",
              "    }\n",
              "\n",
              "    [theme=dark] .colab-df-convert:hover {\n",
              "      background-color: #434B5C;\n",
              "      box-shadow: 0px 1px 3px 1px rgba(0, 0, 0, 0.15);\n",
              "      filter: drop-shadow(0px 1px 2px rgba(0, 0, 0, 0.3));\n",
              "      fill: #FFFFFF;\n",
              "    }\n",
              "  </style>\n",
              "\n",
              "      <script>\n",
              "        const buttonEl =\n",
              "          document.querySelector('#df-afe21d7c-5013-40b2-ba7a-4966796e0555 button.colab-df-convert');\n",
              "        buttonEl.style.display =\n",
              "          google.colab.kernel.accessAllowed ? 'block' : 'none';\n",
              "\n",
              "        async function convertToInteractive(key) {\n",
              "          const element = document.querySelector('#df-afe21d7c-5013-40b2-ba7a-4966796e0555');\n",
              "          const dataTable =\n",
              "            await google.colab.kernel.invokeFunction('convertToInteractive',\n",
              "                                                     [key], {});\n",
              "          if (!dataTable) return;\n",
              "\n",
              "          const docLinkHtml = 'Like what you see? Visit the ' +\n",
              "            '<a target=\"_blank\" href=https://colab.research.google.com/notebooks/data_table.ipynb>data table notebook</a>'\n",
              "            + ' to learn more about interactive tables.';\n",
              "          element.innerHTML = '';\n",
              "          dataTable['output_type'] = 'display_data';\n",
              "          await google.colab.output.renderOutput(dataTable, element);\n",
              "          const docLink = document.createElement('div');\n",
              "          docLink.innerHTML = docLinkHtml;\n",
              "          element.appendChild(docLink);\n",
              "        }\n",
              "      </script>\n",
              "    </div>\n",
              "  </div>\n",
              "  "
            ]
          },
          "metadata": {},
          "execution_count": 18
        }
      ]
    },
    {
      "cell_type": "code",
      "metadata": {
        "id": "uWYY8yaMdxmY",
        "colab": {
          "base_uri": "https://localhost:8080/",
          "height": 237
        },
        "outputId": "e571e4d0-b743-48d4-a385-c2afc6c34a36"
      },
      "source": [
        "df_benchmark =  df.loc[:, df.columns == '^GSPC']\n",
        "df_benchmark.head()"
      ],
      "execution_count": null,
      "outputs": [
        {
          "output_type": "execute_result",
          "data": {
            "text/plain": [
              "               ^GSPC\n",
              "Date                \n",
              "2016-11-16 -0.001584\n",
              "2016-11-17  0.004665\n",
              "2016-11-18 -0.002390\n",
              "2016-11-21  0.007434\n",
              "2016-11-22  0.002163"
            ],
            "text/html": [
              "\n",
              "  <div id=\"df-74a25b4a-dd91-4745-bf97-583f8643340c\">\n",
              "    <div class=\"colab-df-container\">\n",
              "      <div>\n",
              "<style scoped>\n",
              "    .dataframe tbody tr th:only-of-type {\n",
              "        vertical-align: middle;\n",
              "    }\n",
              "\n",
              "    .dataframe tbody tr th {\n",
              "        vertical-align: top;\n",
              "    }\n",
              "\n",
              "    .dataframe thead th {\n",
              "        text-align: right;\n",
              "    }\n",
              "</style>\n",
              "<table border=\"1\" class=\"dataframe\">\n",
              "  <thead>\n",
              "    <tr style=\"text-align: right;\">\n",
              "      <th></th>\n",
              "      <th>^GSPC</th>\n",
              "    </tr>\n",
              "    <tr>\n",
              "      <th>Date</th>\n",
              "      <th></th>\n",
              "    </tr>\n",
              "  </thead>\n",
              "  <tbody>\n",
              "    <tr>\n",
              "      <th>2016-11-16</th>\n",
              "      <td>-0.001584</td>\n",
              "    </tr>\n",
              "    <tr>\n",
              "      <th>2016-11-17</th>\n",
              "      <td>0.004665</td>\n",
              "    </tr>\n",
              "    <tr>\n",
              "      <th>2016-11-18</th>\n",
              "      <td>-0.002390</td>\n",
              "    </tr>\n",
              "    <tr>\n",
              "      <th>2016-11-21</th>\n",
              "      <td>0.007434</td>\n",
              "    </tr>\n",
              "    <tr>\n",
              "      <th>2016-11-22</th>\n",
              "      <td>0.002163</td>\n",
              "    </tr>\n",
              "  </tbody>\n",
              "</table>\n",
              "</div>\n",
              "      <button class=\"colab-df-convert\" onclick=\"convertToInteractive('df-74a25b4a-dd91-4745-bf97-583f8643340c')\"\n",
              "              title=\"Convert this dataframe to an interactive table.\"\n",
              "              style=\"display:none;\">\n",
              "        \n",
              "  <svg xmlns=\"http://www.w3.org/2000/svg\" height=\"24px\"viewBox=\"0 0 24 24\"\n",
              "       width=\"24px\">\n",
              "    <path d=\"M0 0h24v24H0V0z\" fill=\"none\"/>\n",
              "    <path d=\"M18.56 5.44l.94 2.06.94-2.06 2.06-.94-2.06-.94-.94-2.06-.94 2.06-2.06.94zm-11 1L8.5 8.5l.94-2.06 2.06-.94-2.06-.94L8.5 2.5l-.94 2.06-2.06.94zm10 10l.94 2.06.94-2.06 2.06-.94-2.06-.94-.94-2.06-.94 2.06-2.06.94z\"/><path d=\"M17.41 7.96l-1.37-1.37c-.4-.4-.92-.59-1.43-.59-.52 0-1.04.2-1.43.59L10.3 9.45l-7.72 7.72c-.78.78-.78 2.05 0 2.83L4 21.41c.39.39.9.59 1.41.59.51 0 1.02-.2 1.41-.59l7.78-7.78 2.81-2.81c.8-.78.8-2.07 0-2.86zM5.41 20L4 18.59l7.72-7.72 1.47 1.35L5.41 20z\"/>\n",
              "  </svg>\n",
              "      </button>\n",
              "      \n",
              "  <style>\n",
              "    .colab-df-container {\n",
              "      display:flex;\n",
              "      flex-wrap:wrap;\n",
              "      gap: 12px;\n",
              "    }\n",
              "\n",
              "    .colab-df-convert {\n",
              "      background-color: #E8F0FE;\n",
              "      border: none;\n",
              "      border-radius: 50%;\n",
              "      cursor: pointer;\n",
              "      display: none;\n",
              "      fill: #1967D2;\n",
              "      height: 32px;\n",
              "      padding: 0 0 0 0;\n",
              "      width: 32px;\n",
              "    }\n",
              "\n",
              "    .colab-df-convert:hover {\n",
              "      background-color: #E2EBFA;\n",
              "      box-shadow: 0px 1px 2px rgba(60, 64, 67, 0.3), 0px 1px 3px 1px rgba(60, 64, 67, 0.15);\n",
              "      fill: #174EA6;\n",
              "    }\n",
              "\n",
              "    [theme=dark] .colab-df-convert {\n",
              "      background-color: #3B4455;\n",
              "      fill: #D2E3FC;\n",
              "    }\n",
              "\n",
              "    [theme=dark] .colab-df-convert:hover {\n",
              "      background-color: #434B5C;\n",
              "      box-shadow: 0px 1px 3px 1px rgba(0, 0, 0, 0.15);\n",
              "      filter: drop-shadow(0px 1px 2px rgba(0, 0, 0, 0.3));\n",
              "      fill: #FFFFFF;\n",
              "    }\n",
              "  </style>\n",
              "\n",
              "      <script>\n",
              "        const buttonEl =\n",
              "          document.querySelector('#df-74a25b4a-dd91-4745-bf97-583f8643340c button.colab-df-convert');\n",
              "        buttonEl.style.display =\n",
              "          google.colab.kernel.accessAllowed ? 'block' : 'none';\n",
              "\n",
              "        async function convertToInteractive(key) {\n",
              "          const element = document.querySelector('#df-74a25b4a-dd91-4745-bf97-583f8643340c');\n",
              "          const dataTable =\n",
              "            await google.colab.kernel.invokeFunction('convertToInteractive',\n",
              "                                                     [key], {});\n",
              "          if (!dataTable) return;\n",
              "\n",
              "          const docLinkHtml = 'Like what you see? Visit the ' +\n",
              "            '<a target=\"_blank\" href=https://colab.research.google.com/notebooks/data_table.ipynb>data table notebook</a>'\n",
              "            + ' to learn more about interactive tables.';\n",
              "          element.innerHTML = '';\n",
              "          dataTable['output_type'] = 'display_data';\n",
              "          await google.colab.output.renderOutput(dataTable, element);\n",
              "          const docLink = document.createElement('div');\n",
              "          docLink.innerHTML = docLinkHtml;\n",
              "          element.appendChild(docLink);\n",
              "        }\n",
              "      </script>\n",
              "    </div>\n",
              "  </div>\n",
              "  "
            ]
          },
          "metadata": {},
          "execution_count": 19
        }
      ]
    },
    {
      "cell_type": "code",
      "metadata": {
        "id": "_Caq18g2dxmY",
        "colab": {
          "base_uri": "https://localhost:8080/",
          "height": 237
        },
        "outputId": "731826f2-43d5-41de-a1df-633a70cdf392"
      },
      "source": [
        "df_benchmark1 =  df.loc[:, df.columns == '^IXIC']\n",
        "df_benchmark1.head()"
      ],
      "execution_count": null,
      "outputs": [
        {
          "output_type": "execute_result",
          "data": {
            "text/plain": [
              "               ^IXIC\n",
              "Date                \n",
              "2016-11-16  0.003587\n",
              "2016-11-17  0.007412\n",
              "2016-11-18 -0.002339\n",
              "2016-11-21  0.008859\n",
              "2016-11-22  0.003252"
            ],
            "text/html": [
              "\n",
              "  <div id=\"df-b63b1496-0b71-4b03-9460-10145db5fe75\">\n",
              "    <div class=\"colab-df-container\">\n",
              "      <div>\n",
              "<style scoped>\n",
              "    .dataframe tbody tr th:only-of-type {\n",
              "        vertical-align: middle;\n",
              "    }\n",
              "\n",
              "    .dataframe tbody tr th {\n",
              "        vertical-align: top;\n",
              "    }\n",
              "\n",
              "    .dataframe thead th {\n",
              "        text-align: right;\n",
              "    }\n",
              "</style>\n",
              "<table border=\"1\" class=\"dataframe\">\n",
              "  <thead>\n",
              "    <tr style=\"text-align: right;\">\n",
              "      <th></th>\n",
              "      <th>^IXIC</th>\n",
              "    </tr>\n",
              "    <tr>\n",
              "      <th>Date</th>\n",
              "      <th></th>\n",
              "    </tr>\n",
              "  </thead>\n",
              "  <tbody>\n",
              "    <tr>\n",
              "      <th>2016-11-16</th>\n",
              "      <td>0.003587</td>\n",
              "    </tr>\n",
              "    <tr>\n",
              "      <th>2016-11-17</th>\n",
              "      <td>0.007412</td>\n",
              "    </tr>\n",
              "    <tr>\n",
              "      <th>2016-11-18</th>\n",
              "      <td>-0.002339</td>\n",
              "    </tr>\n",
              "    <tr>\n",
              "      <th>2016-11-21</th>\n",
              "      <td>0.008859</td>\n",
              "    </tr>\n",
              "    <tr>\n",
              "      <th>2016-11-22</th>\n",
              "      <td>0.003252</td>\n",
              "    </tr>\n",
              "  </tbody>\n",
              "</table>\n",
              "</div>\n",
              "      <button class=\"colab-df-convert\" onclick=\"convertToInteractive('df-b63b1496-0b71-4b03-9460-10145db5fe75')\"\n",
              "              title=\"Convert this dataframe to an interactive table.\"\n",
              "              style=\"display:none;\">\n",
              "        \n",
              "  <svg xmlns=\"http://www.w3.org/2000/svg\" height=\"24px\"viewBox=\"0 0 24 24\"\n",
              "       width=\"24px\">\n",
              "    <path d=\"M0 0h24v24H0V0z\" fill=\"none\"/>\n",
              "    <path d=\"M18.56 5.44l.94 2.06.94-2.06 2.06-.94-2.06-.94-.94-2.06-.94 2.06-2.06.94zm-11 1L8.5 8.5l.94-2.06 2.06-.94-2.06-.94L8.5 2.5l-.94 2.06-2.06.94zm10 10l.94 2.06.94-2.06 2.06-.94-2.06-.94-.94-2.06-.94 2.06-2.06.94z\"/><path d=\"M17.41 7.96l-1.37-1.37c-.4-.4-.92-.59-1.43-.59-.52 0-1.04.2-1.43.59L10.3 9.45l-7.72 7.72c-.78.78-.78 2.05 0 2.83L4 21.41c.39.39.9.59 1.41.59.51 0 1.02-.2 1.41-.59l7.78-7.78 2.81-2.81c.8-.78.8-2.07 0-2.86zM5.41 20L4 18.59l7.72-7.72 1.47 1.35L5.41 20z\"/>\n",
              "  </svg>\n",
              "      </button>\n",
              "      \n",
              "  <style>\n",
              "    .colab-df-container {\n",
              "      display:flex;\n",
              "      flex-wrap:wrap;\n",
              "      gap: 12px;\n",
              "    }\n",
              "\n",
              "    .colab-df-convert {\n",
              "      background-color: #E8F0FE;\n",
              "      border: none;\n",
              "      border-radius: 50%;\n",
              "      cursor: pointer;\n",
              "      display: none;\n",
              "      fill: #1967D2;\n",
              "      height: 32px;\n",
              "      padding: 0 0 0 0;\n",
              "      width: 32px;\n",
              "    }\n",
              "\n",
              "    .colab-df-convert:hover {\n",
              "      background-color: #E2EBFA;\n",
              "      box-shadow: 0px 1px 2px rgba(60, 64, 67, 0.3), 0px 1px 3px 1px rgba(60, 64, 67, 0.15);\n",
              "      fill: #174EA6;\n",
              "    }\n",
              "\n",
              "    [theme=dark] .colab-df-convert {\n",
              "      background-color: #3B4455;\n",
              "      fill: #D2E3FC;\n",
              "    }\n",
              "\n",
              "    [theme=dark] .colab-df-convert:hover {\n",
              "      background-color: #434B5C;\n",
              "      box-shadow: 0px 1px 3px 1px rgba(0, 0, 0, 0.15);\n",
              "      filter: drop-shadow(0px 1px 2px rgba(0, 0, 0, 0.3));\n",
              "      fill: #FFFFFF;\n",
              "    }\n",
              "  </style>\n",
              "\n",
              "      <script>\n",
              "        const buttonEl =\n",
              "          document.querySelector('#df-b63b1496-0b71-4b03-9460-10145db5fe75 button.colab-df-convert');\n",
              "        buttonEl.style.display =\n",
              "          google.colab.kernel.accessAllowed ? 'block' : 'none';\n",
              "\n",
              "        async function convertToInteractive(key) {\n",
              "          const element = document.querySelector('#df-b63b1496-0b71-4b03-9460-10145db5fe75');\n",
              "          const dataTable =\n",
              "            await google.colab.kernel.invokeFunction('convertToInteractive',\n",
              "                                                     [key], {});\n",
              "          if (!dataTable) return;\n",
              "\n",
              "          const docLinkHtml = 'Like what you see? Visit the ' +\n",
              "            '<a target=\"_blank\" href=https://colab.research.google.com/notebooks/data_table.ipynb>data table notebook</a>'\n",
              "            + ' to learn more about interactive tables.';\n",
              "          element.innerHTML = '';\n",
              "          dataTable['output_type'] = 'display_data';\n",
              "          await google.colab.output.renderOutput(dataTable, element);\n",
              "          const docLink = document.createElement('div');\n",
              "          docLink.innerHTML = docLinkHtml;\n",
              "          element.appendChild(docLink);\n",
              "        }\n",
              "      </script>\n",
              "    </div>\n",
              "  </div>\n",
              "  "
            ]
          },
          "metadata": {},
          "execution_count": 20
        }
      ]
    },
    {
      "cell_type": "markdown",
      "metadata": {
        "id": "_uAesh3kdxmZ"
      },
      "source": [
        "Ya estamos listos para utilizar la función de la libreria. ¿Pero que le debo entregar a la función?"
      ]
    },
    {
      "cell_type": "markdown",
      "metadata": {
        "id": "p1baT8MmdxmZ"
      },
      "source": [
        "![capm.png](data:image/png;base64,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)"
      ]
    },
    {
      "cell_type": "markdown",
      "metadata": {
        "id": "ACBIODJYdxmZ"
      },
      "source": [
        "Por las dudas:\n",
        "\n",
        "Compounding: https://www.investopedia.com/terms/g/geometricmean.asp\n",
        "\n",
        "Tasa Libre de Riesgo: https://www.treasury.gov/resource-center/data-chart-center/interest-rates/pages/textview.aspx?data=yield"
      ]
    },
    {
      "cell_type": "markdown",
      "metadata": {
        "id": "gtXeY4hYdxmZ"
      },
      "source": [
        "Se calcular los retornos esperados siguiendo el modelo CAPM con el S%P500 como Benchmark"
      ]
    },
    {
      "cell_type": "code",
      "metadata": {
        "id": "DiSgCalXdxmZ",
        "colab": {
          "base_uri": "https://localhost:8080/"
        },
        "outputId": "00ef00c8-4daa-4941-b1fd-b865f866b06f"
      },
      "source": [
        "retornos = expected_returns.capm_return(df_activos, market_prices = df_benchmark, returns_data= True, risk_free_rate=0.08/100, frequency=252)\n",
        "retornos"
      ],
      "execution_count": null,
      "outputs": [
        {
          "output_type": "execute_result",
          "data": {
            "text/plain": [
              "AAPL     0.141023\n",
              "AMZN     0.113865\n",
              "FB       0.137243\n",
              "GOOGL    0.129094\n",
              "MSFT     0.140752\n",
              "TSLA     0.163821\n",
              "V        0.131866\n",
              "Name: mkt, dtype: float64"
            ]
          },
          "metadata": {},
          "execution_count": 21
        }
      ]
    },
    {
      "cell_type": "markdown",
      "metadata": {
        "id": "68NrRQ9-dxma"
      },
      "source": [
        "Ahora calculamos los retornos con otro Benchmark. En este caso el Nasdaq."
      ]
    },
    {
      "cell_type": "code",
      "metadata": {
        "id": "frGperY1dxma",
        "colab": {
          "base_uri": "https://localhost:8080/"
        },
        "outputId": "0e5fca9d-2aab-4397-db91-3b11b9644b4b"
      },
      "source": [
        "retornos1 = expected_returns.capm_return(df_activos, market_prices = df_benchmark1, returns_data= True, risk_free_rate=0.08/100, frequency=252)\n",
        "Rretornos1"
      ],
      "execution_count": null,
      "outputs": [
        {
          "output_type": "execute_result",
          "data": {
            "text/plain": [
              "AAPL     0.177638\n",
              "AMZN     0.161409\n",
              "FB       0.181457\n",
              "GOOGL    0.160572\n",
              "MSFT     0.174666\n",
              "TSLA     0.230568\n",
              "V        0.143403\n",
              "Name: mkt, dtype: float64"
            ]
          },
          "metadata": {},
          "execution_count": 22
        }
      ]
    },
    {
      "cell_type": "markdown",
      "source": [
        "### Opción 2: EWMA"
      ],
      "metadata": {
        "id": "DPB32vfqunlw"
      }
    },
    {
      "cell_type": "code",
      "source": [
        "retornos2 = expected_returns.ema_historical_return(df_activos, returns_data= True)\n",
        "retornos2"
      ],
      "metadata": {
        "colab": {
          "base_uri": "https://localhost:8080/"
        },
        "id": "CMk-GrmQuXLU",
        "outputId": "ac62e22a-06e9-4d2c-c7ec-78c58f790f4d"
      },
      "execution_count": null,
      "outputs": [
        {
          "output_type": "execute_result",
          "data": {
            "text/plain": [
              "AAPL     0.323460\n",
              "AMZN     0.033047\n",
              "FB      -0.217584\n",
              "GOOGL    0.171127\n",
              "MSFT     0.148166\n",
              "TSLA     0.895527\n",
              "V        0.035321\n",
              "Name: 2022-04-18 00:00:00, dtype: float64"
            ]
          },
          "metadata": {},
          "execution_count": 26
        }
      ]
    },
    {
      "cell_type": "markdown",
      "source": [
        "### Opción 3: Promedio historico"
      ],
      "metadata": {
        "id": "LY-AgGnTvp0Q"
      }
    },
    {
      "cell_type": "code",
      "source": [
        "retornos3 = expected_returns.mean_historical_return(df_activos, returns_data= True)\n",
        "retornos3"
      ],
      "metadata": {
        "colab": {
          "base_uri": "https://localhost:8080/"
        },
        "id": "YMheA-oUviom",
        "outputId": "39249cde-6512-42a3-d90b-1a0544177546"
      },
      "execution_count": null,
      "outputs": [
        {
          "output_type": "execute_result",
          "data": {
            "text/plain": [
              "AAPL     0.352451\n",
              "AMZN     0.240570\n",
              "FB       0.040750\n",
              "GOOGL    0.200750\n",
              "MSFT     0.302203\n",
              "TSLA     0.536808\n",
              "V        0.167762\n",
              "dtype: float64"
            ]
          },
          "metadata": {},
          "execution_count": 28
        }
      ]
    },
    {
      "cell_type": "markdown",
      "metadata": {
        "id": "gPlBbqu6dxma"
      },
      "source": [
        "## 2"
      ]
    },
    {
      "cell_type": "markdown",
      "metadata": {
        "id": "ZMxeTuxzdxma"
      },
      "source": [
        "A partir de las estimaciones de volatilidades/correlaciones diarias y mensuales, estimen las  volatilidades  y  correlaciones  anuales.  Discutan y  justifiquen el método  seguido  para dicha estimación"
      ]
    },
    {
      "cell_type": "markdown",
      "metadata": {
        "id": "qEQ9vFxUdxma"
      },
      "source": [
        "### Volatilidad Diaria:"
      ]
    },
    {
      "cell_type": "markdown",
      "metadata": {
        "id": "rjipi0jCdxma"
      },
      "source": [
        "La volatilidad ($\\sigma_{i}$) es la desviación estándar de los datos."
      ]
    },
    {
      "cell_type": "code",
      "metadata": {
        "id": "MDg99kaVdxma",
        "colab": {
          "base_uri": "https://localhost:8080/"
        },
        "outputId": "e8c5a741-f4e3-4643-f659-8b459ac3db86"
      },
      "source": [
        "volatilidad_Apple = np.sqrt(statistics.variance(df[\"AAPL\"]))\n",
        "print(str(round(volatilidad_Apple,4)*100) + \"%\")"
      ],
      "execution_count": null,
      "outputs": [
        {
          "output_type": "stream",
          "name": "stdout",
          "text": [
            "1.8599999999999999%\n"
          ]
        }
      ]
    },
    {
      "cell_type": "code",
      "metadata": {
        "id": "PU4TfZBAdxmb",
        "colab": {
          "base_uri": "https://localhost:8080/"
        },
        "outputId": "43b69df7-75e0-4e85-b78e-b3c5857f0f0d"
      },
      "source": [
        "volatilidad_MSFT = np.sqrt(statistics.variance(df[\"MSFT\"]))\n",
        "print(str(round(volatilidad_MSFT,2)*100) + \"%\")"
      ],
      "execution_count": null,
      "outputs": [
        {
          "output_type": "stream",
          "name": "stdout",
          "text": [
            "2.0%\n"
          ]
        }
      ]
    },
    {
      "cell_type": "markdown",
      "metadata": {
        "id": "ZSomqxpbdxmb"
      },
      "source": [
        "### Volatilidad Mensual: "
      ]
    },
    {
      "cell_type": "markdown",
      "metadata": {
        "id": "KUswx8KKdxmb"
      },
      "source": [
        "En el caso de la volatilidad mensual debemos multiplicar la volatilidad diaria por raíz de 21 días."
      ]
    },
    {
      "cell_type": "code",
      "metadata": {
        "id": "g3ew9oUTdxmb",
        "colab": {
          "base_uri": "https://localhost:8080/"
        },
        "outputId": "54bbdab1-3b32-4c1a-c618-cdaef6445aab"
      },
      "source": [
        "volatilidad_Apple_mensual = volatilidad_Apple*np.sqrt(21)\n",
        "print(str(round(volatilidad_Apple_mensual,4)*100) + \"%\")"
      ],
      "execution_count": null,
      "outputs": [
        {
          "output_type": "stream",
          "name": "stdout",
          "text": [
            "8.5%\n"
          ]
        }
      ]
    },
    {
      "cell_type": "markdown",
      "metadata": {
        "id": "O4VcqyTzdxmb"
      },
      "source": [
        "### Volatilidad Anual:"
      ]
    },
    {
      "cell_type": "markdown",
      "metadata": {
        "id": "lL0QDvQ0dxmc"
      },
      "source": [
        "En el caso de la volatilidad anual debemos multiplicar la volatilidad diaria por raiz de 252 días."
      ]
    },
    {
      "cell_type": "code",
      "metadata": {
        "id": "fYvLCqHodxmc",
        "colab": {
          "base_uri": "https://localhost:8080/"
        },
        "outputId": "5fcf320c-50d6-445a-e23a-ce45ff8d52fd"
      },
      "source": [
        "volatilidad_Apple_anual = volatilidad_Apple*np.sqrt(252)\n",
        "print(str(round(volatilidad_Apple_anual,2)*100) + \"%\")"
      ],
      "execution_count": null,
      "outputs": [
        {
          "output_type": "stream",
          "name": "stdout",
          "text": [
            "28.999999999999996%\n"
          ]
        }
      ]
    },
    {
      "cell_type": "markdown",
      "metadata": {
        "id": "OOARMnfZdxmc"
      },
      "source": [
        "### Coeficiente de correlación:"
      ]
    },
    {
      "cell_type": "markdown",
      "metadata": {
        "id": "ZxJvvay_dxmc"
      },
      "source": [
        "El coeficiente de correlación se define de la siguiente forma:\n",
        "    \n",
        "$\\rho_{A,B} = \\frac{COV(R_{A},R_{B})}{\\sigma_{A}\\cdot\\sigma_b}$"
      ]
    },
    {
      "cell_type": "code",
      "metadata": {
        "id": "QIq_OjB-dxmc",
        "colab": {
          "base_uri": "https://localhost:8080/"
        },
        "outputId": "3c5c5a4c-6578-4a57-f348-01e1a6a770ad"
      },
      "source": [
        "df_cov = df_activos.cov()*252\n",
        "df_cov"
      ],
      "execution_count": null,
      "outputs": [
        {
          "output_type": "execute_result",
          "data": {
            "text/plain": [
              "           AAPL      AMZN        FB     GOOGL      MSFT      TSLA         V\n",
              "AAPL   0.086726  0.053585  0.058441  0.051572  0.057586  0.072366  0.046510\n",
              "AMZN   0.053585  0.087300  0.062595  0.051388  0.055204  0.066175  0.037775\n",
              "FB     0.058441  0.062595  0.123075  0.061418  0.058173  0.066805  0.047966\n",
              "GOOGL  0.051572  0.051388  0.061418  0.070729  0.056032  0.058224  0.045817\n",
              "MSFT   0.057586  0.055204  0.058173  0.056032  0.072739  0.068074  0.049300\n",
              "TSLA   0.072366  0.066175  0.066805  0.058224  0.068074  0.340871  0.053203\n",
              "V      0.046510  0.037775  0.047966  0.045817  0.049300  0.053203  0.068726"
            ],
            "text/html": [
              "\n",
              "  <div id=\"df-c0f2d2c2-9f21-428b-bf20-26af6871c8cc\">\n",
              "    <div class=\"colab-df-container\">\n",
              "      <div>\n",
              "<style scoped>\n",
              "    .dataframe tbody tr th:only-of-type {\n",
              "        vertical-align: middle;\n",
              "    }\n",
              "\n",
              "    .dataframe tbody tr th {\n",
              "        vertical-align: top;\n",
              "    }\n",
              "\n",
              "    .dataframe thead th {\n",
              "        text-align: right;\n",
              "    }\n",
              "</style>\n",
              "<table border=\"1\" class=\"dataframe\">\n",
              "  <thead>\n",
              "    <tr style=\"text-align: right;\">\n",
              "      <th></th>\n",
              "      <th>AAPL</th>\n",
              "      <th>AMZN</th>\n",
              "      <th>FB</th>\n",
              "      <th>GOOGL</th>\n",
              "      <th>MSFT</th>\n",
              "      <th>TSLA</th>\n",
              "      <th>V</th>\n",
              "    </tr>\n",
              "  </thead>\n",
              "  <tbody>\n",
              "    <tr>\n",
              "      <th>AAPL</th>\n",
              "      <td>0.086726</td>\n",
              "      <td>0.053585</td>\n",
              "      <td>0.058441</td>\n",
              "      <td>0.051572</td>\n",
              "      <td>0.057586</td>\n",
              "      <td>0.072366</td>\n",
              "      <td>0.046510</td>\n",
              "    </tr>\n",
              "    <tr>\n",
              "      <th>AMZN</th>\n",
              "      <td>0.053585</td>\n",
              "      <td>0.087300</td>\n",
              "      <td>0.062595</td>\n",
              "      <td>0.051388</td>\n",
              "      <td>0.055204</td>\n",
              "      <td>0.066175</td>\n",
              "      <td>0.037775</td>\n",
              "    </tr>\n",
              "    <tr>\n",
              "      <th>FB</th>\n",
              "      <td>0.058441</td>\n",
              "      <td>0.062595</td>\n",
              "      <td>0.123075</td>\n",
              "      <td>0.061418</td>\n",
              "      <td>0.058173</td>\n",
              "      <td>0.066805</td>\n",
              "      <td>0.047966</td>\n",
              "    </tr>\n",
              "    <tr>\n",
              "      <th>GOOGL</th>\n",
              "      <td>0.051572</td>\n",
              "      <td>0.051388</td>\n",
              "      <td>0.061418</td>\n",
              "      <td>0.070729</td>\n",
              "      <td>0.056032</td>\n",
              "      <td>0.058224</td>\n",
              "      <td>0.045817</td>\n",
              "    </tr>\n",
              "    <tr>\n",
              "      <th>MSFT</th>\n",
              "      <td>0.057586</td>\n",
              "      <td>0.055204</td>\n",
              "      <td>0.058173</td>\n",
              "      <td>0.056032</td>\n",
              "      <td>0.072739</td>\n",
              "      <td>0.068074</td>\n",
              "      <td>0.049300</td>\n",
              "    </tr>\n",
              "    <tr>\n",
              "      <th>TSLA</th>\n",
              "      <td>0.072366</td>\n",
              "      <td>0.066175</td>\n",
              "      <td>0.066805</td>\n",
              "      <td>0.058224</td>\n",
              "      <td>0.068074</td>\n",
              "      <td>0.340871</td>\n",
              "      <td>0.053203</td>\n",
              "    </tr>\n",
              "    <tr>\n",
              "      <th>V</th>\n",
              "      <td>0.046510</td>\n",
              "      <td>0.037775</td>\n",
              "      <td>0.047966</td>\n",
              "      <td>0.045817</td>\n",
              "      <td>0.049300</td>\n",
              "      <td>0.053203</td>\n",
              "      <td>0.068726</td>\n",
              "    </tr>\n",
              "  </tbody>\n",
              "</table>\n",
              "</div>\n",
              "      <button class=\"colab-df-convert\" onclick=\"convertToInteractive('df-c0f2d2c2-9f21-428b-bf20-26af6871c8cc')\"\n",
              "              title=\"Convert this dataframe to an interactive table.\"\n",
              "              style=\"display:none;\">\n",
              "        \n",
              "  <svg xmlns=\"http://www.w3.org/2000/svg\" height=\"24px\"viewBox=\"0 0 24 24\"\n",
              "       width=\"24px\">\n",
              "    <path d=\"M0 0h24v24H0V0z\" fill=\"none\"/>\n",
              "    <path d=\"M18.56 5.44l.94 2.06.94-2.06 2.06-.94-2.06-.94-.94-2.06-.94 2.06-2.06.94zm-11 1L8.5 8.5l.94-2.06 2.06-.94-2.06-.94L8.5 2.5l-.94 2.06-2.06.94zm10 10l.94 2.06.94-2.06 2.06-.94-2.06-.94-.94-2.06-.94 2.06-2.06.94z\"/><path d=\"M17.41 7.96l-1.37-1.37c-.4-.4-.92-.59-1.43-.59-.52 0-1.04.2-1.43.59L10.3 9.45l-7.72 7.72c-.78.78-.78 2.05 0 2.83L4 21.41c.39.39.9.59 1.41.59.51 0 1.02-.2 1.41-.59l7.78-7.78 2.81-2.81c.8-.78.8-2.07 0-2.86zM5.41 20L4 18.59l7.72-7.72 1.47 1.35L5.41 20z\"/>\n",
              "  </svg>\n",
              "      </button>\n",
              "      \n",
              "  <style>\n",
              "    .colab-df-container {\n",
              "      display:flex;\n",
              "      flex-wrap:wrap;\n",
              "      gap: 12px;\n",
              "    }\n",
              "\n",
              "    .colab-df-convert {\n",
              "      background-color: #E8F0FE;\n",
              "      border: none;\n",
              "      border-radius: 50%;\n",
              "      cursor: pointer;\n",
              "      display: none;\n",
              "      fill: #1967D2;\n",
              "      height: 32px;\n",
              "      padding: 0 0 0 0;\n",
              "      width: 32px;\n",
              "    }\n",
              "\n",
              "    .colab-df-convert:hover {\n",
              "      background-color: #E2EBFA;\n",
              "      box-shadow: 0px 1px 2px rgba(60, 64, 67, 0.3), 0px 1px 3px 1px rgba(60, 64, 67, 0.15);\n",
              "      fill: #174EA6;\n",
              "    }\n",
              "\n",
              "    [theme=dark] .colab-df-convert {\n",
              "      background-color: #3B4455;\n",
              "      fill: #D2E3FC;\n",
              "    }\n",
              "\n",
              "    [theme=dark] .colab-df-convert:hover {\n",
              "      background-color: #434B5C;\n",
              "      box-shadow: 0px 1px 3px 1px rgba(0, 0, 0, 0.15);\n",
              "      filter: drop-shadow(0px 1px 2px rgba(0, 0, 0, 0.3));\n",
              "      fill: #FFFFFF;\n",
              "    }\n",
              "  </style>\n",
              "\n",
              "      <script>\n",
              "        const buttonEl =\n",
              "          document.querySelector('#df-c0f2d2c2-9f21-428b-bf20-26af6871c8cc button.colab-df-convert');\n",
              "        buttonEl.style.display =\n",
              "          google.colab.kernel.accessAllowed ? 'block' : 'none';\n",
              "\n",
              "        async function convertToInteractive(key) {\n",
              "          const element = document.querySelector('#df-c0f2d2c2-9f21-428b-bf20-26af6871c8cc');\n",
              "          const dataTable =\n",
              "            await google.colab.kernel.invokeFunction('convertToInteractive',\n",
              "                                                     [key], {});\n",
              "          if (!dataTable) return;\n",
              "\n",
              "          const docLinkHtml = 'Like what you see? Visit the ' +\n",
              "            '<a target=\"_blank\" href=https://colab.research.google.com/notebooks/data_table.ipynb>data table notebook</a>'\n",
              "            + ' to learn more about interactive tables.';\n",
              "          element.innerHTML = '';\n",
              "          dataTable['output_type'] = 'display_data';\n",
              "          await google.colab.output.renderOutput(dataTable, element);\n",
              "          const docLink = document.createElement('div');\n",
              "          docLink.innerHTML = docLinkHtml;\n",
              "          element.appendChild(docLink);\n",
              "        }\n",
              "      </script>\n",
              "    </div>\n",
              "  </div>\n",
              "  "
            ]
          },
          "metadata": {},
          "execution_count": 35
        }
      ]
    },
    {
      "cell_type": "markdown",
      "metadata": {
        "id": "0Tlx4wqCdxmd"
      },
      "source": [
        "Por lo tanto, la el coeficiente de correlaión entre Apple y Microsoft está dado por:"
      ]
    },
    {
      "cell_type": "code",
      "metadata": {
        "id": "7tQlB9TMdxmd",
        "colab": {
          "base_uri": "https://localhost:8080/"
        },
        "outputId": "95fea508-5aea-4670-cbda-d4fc48cd76c1"
      },
      "source": [
        "corr_coef_apple_msft = (df_cov[\"AAPL\"][\"MSFT\"])/(volatilidad_Apple*volatilidad_MSFT)\n",
        "corr_coef_apple_msft/252"
      ],
      "execution_count": null,
      "outputs": [
        {
          "output_type": "execute_result",
          "data": {
            "text/plain": [
              "0.7250335193444796"
            ]
          },
          "metadata": {},
          "execution_count": 36
        }
      ]
    },
    {
      "cell_type": "markdown",
      "metadata": {
        "id": "jaPNMVmAdxmd"
      },
      "source": [
        "##Cartera de Minima Varianza:"
      ]
    },
    {
      "cell_type": "markdown",
      "metadata": {
        "id": "PCScuIfAdxme"
      },
      "source": [
        "Para realizar esto vamos a utilizar la misma libreria que se utilizó para CAPM. Pero primero debemos definir los pesos que tendrá nuestro portafolio de Minima Varianza. Se define inicialmente unos pesos arbitrarios iguales para todos."
      ]
    },
    {
      "cell_type": "code",
      "metadata": {
        "id": "lovHtiIQdxmf",
        "colab": {
          "base_uri": "https://localhost:8080/"
        },
        "outputId": "ae7cb8fa-d473-402b-e04d-e5d4694d27c2"
      },
      "source": [
        "def pesosPortafolio(dataframe):\n",
        "    array = []\n",
        "    for i in dataframe.columns:\n",
        "        array.append(1/len(dataframe.columns))\n",
        "    arrayFinal = np.array(array)\n",
        "    return arrayFinal\n",
        "\n",
        "pesos = pesosPortafolio(df_activos)\n",
        "pesos"
      ],
      "execution_count": null,
      "outputs": [
        {
          "output_type": "execute_result",
          "data": {
            "text/plain": [
              "array([0.14285714, 0.14285714, 0.14285714, 0.14285714, 0.14285714,\n",
              "       0.14285714, 0.14285714])"
            ]
          },
          "metadata": {},
          "execution_count": 37
        }
      ]
    },
    {
      "cell_type": "markdown",
      "metadata": {
        "id": "7hxao9wvdxmg"
      },
      "source": [
        "Luego, se procede a calcular la varianza del portafolio que se define de la siguiente forma:\n",
        "\n",
        "${\\sigma_{portafolio}}^2 =  w^{T}\\cdot\\sum\\cdot w $"
      ]
    },
    {
      "cell_type": "code",
      "metadata": {
        "id": "6121WFB-dxmg",
        "colab": {
          "base_uri": "https://localhost:8080/",
          "height": 35
        },
        "outputId": "474bab2f-fc17-401b-abdb-943730e54c2e"
      },
      "source": [
        "varianza_portafolio = np.dot(pesos.T, np.dot(df_cov, pesos))\n",
        "\"La varianza del portafolio es:\" + \" \" + str(round(varianza_portafolio*100,1))+\"%\""
      ],
      "execution_count": null,
      "outputs": [
        {
          "output_type": "execute_result",
          "data": {
            "text/plain": [
              "'La varianza del portafolio es: 6.5%'"
            ],
            "application/vnd.google.colaboratory.intrinsic+json": {
              "type": "string"
            }
          },
          "metadata": {},
          "execution_count": 38
        }
      ]
    },
    {
      "cell_type": "markdown",
      "metadata": {
        "id": "LB0bYMgjdxmh"
      },
      "source": [
        "Ahora se calcula la volatilidad del portafolio que se define de la siguiente forma:\n",
        "\n",
        "$\\sigma_{portafolio} =  \\sqrt{w^{T}\\cdot\\sum\\cdot w}$"
      ]
    },
    {
      "cell_type": "code",
      "metadata": {
        "id": "-0bcx0kidxmh",
        "colab": {
          "base_uri": "https://localhost:8080/",
          "height": 35
        },
        "outputId": "5354189d-8861-4b52-b18e-6818e049d4f8"
      },
      "source": [
        "volatilidad_portafolio = np.sqrt(varianza_portafolio)\n",
        "\"La volatilidad del portafolio es:\" + \" \" + str(round(volatilidad_portafolio*100,1))+\"%\""
      ],
      "execution_count": null,
      "outputs": [
        {
          "output_type": "execute_result",
          "data": {
            "text/plain": [
              "'La volatilidad del portafolio es: 25.6%'"
            ],
            "application/vnd.google.colaboratory.intrinsic+json": {
              "type": "string"
            }
          },
          "metadata": {},
          "execution_count": 39
        }
      ]
    },
    {
      "cell_type": "code",
      "metadata": {
        "id": "BUtjYzTsdxmh",
        "colab": {
          "base_uri": "https://localhost:8080/",
          "height": 35
        },
        "outputId": "90916940-4352-4efe-8f5d-b0ad17b00403"
      },
      "source": [
        "retorno_portafolio = np.sum(pesos*retornos1)\n",
        "'El retorno anual del portafolio es:' + ' ' + str(round(retorno_portafolio*100,3)) + '%'"
      ],
      "execution_count": null,
      "outputs": [
        {
          "output_type": "execute_result",
          "data": {
            "text/plain": [
              "'El retorno anual del portafolio es: 19.833%'"
            ],
            "application/vnd.google.colaboratory.intrinsic+json": {
              "type": "string"
            }
          },
          "metadata": {},
          "execution_count": 40
        }
      ]
    },
    {
      "cell_type": "markdown",
      "metadata": {
        "id": "G4VBbqpHdxmi"
      },
      "source": [
        "## 4"
      ]
    },
    {
      "cell_type": "markdown",
      "metadata": {
        "id": "YIGPCRhPdxmj"
      },
      "source": [
        "### Optimización para Mínima Varianza: Sin Venta Corta"
      ]
    },
    {
      "cell_type": "code",
      "metadata": {
        "id": "AhxhPeuAdxmk",
        "colab": {
          "base_uri": "https://localhost:8080/"
        },
        "outputId": "776a1bd8-dd36-408c-aa29-102b404aeb73"
      },
      "source": [
        "ef = EfficientFrontier(retornos1, df_cov,weight_bounds=(0,1))\n",
        "weights = ef.min_volatility() \n",
        "cleaned_weights = ef.clean_weights() \n",
        "print(cleaned_weights) \n",
        "ef.portfolio_performance(verbose=True)"
      ],
      "execution_count": null,
      "outputs": [
        {
          "output_type": "stream",
          "name": "stdout",
          "text": [
            "OrderedDict([('AAPL', 0.10458), ('AMZN', 0.2138), ('FB', 0.0), ('GOOGL', 0.23409), ('MSFT', 0.03308), ('TSLA', 0.0), ('V', 0.41445)])\n",
            "Expected annual return: 17.7%\n",
            "Annual volatility: 23.2%\n",
            "Sharpe Ratio: 0.68\n"
          ]
        },
        {
          "output_type": "execute_result",
          "data": {
            "text/plain": [
              "(0.17691206498558926, 0.2319049121106466, 0.6766224292425651)"
            ]
          },
          "metadata": {},
          "execution_count": 41
        }
      ]
    },
    {
      "cell_type": "markdown",
      "metadata": {
        "id": "5TEkoQNZdxmi"
      },
      "source": [
        "### Optimización para Mínima Varianza: Con Venta Corta"
      ]
    },
    {
      "cell_type": "markdown",
      "metadata": {
        "id": "2yeZDSD4dxmi"
      },
      "source": [
        "Ahora se procede a optimizar el portafolio para formar uno de minima varianza. ¿Qué es la venta corta?\n",
        "\n",
        "https://www.youtube.com/watch?v=sLyb8AlXn_E"
      ]
    },
    {
      "cell_type": "code",
      "metadata": {
        "id": "CLqeehJsdxmi",
        "colab": {
          "base_uri": "https://localhost:8080/"
        },
        "outputId": "dfe749c7-1bfb-4198-b3c0-05eb42d80e94"
      },
      "source": [
        "ef = EfficientFrontier(retornos1, df_cov, weight_bounds=(-1,1))\n",
        "weights = ef.min_volatility() \n",
        "cleaned_weights = ef.clean_weights() \n",
        "print(cleaned_weights) \n",
        "ef.portfolio_performance(verbose=True)"
      ],
      "execution_count": null,
      "outputs": [
        {
          "output_type": "stream",
          "name": "stdout",
          "text": [
            "OrderedDict([('AAPL', 0.11627), ('AMZN', 0.22693), ('FB', -0.03002), ('GOOGL', 0.24663), ('MSFT', 0.04293), ('TSLA', -0.02172), ('V', 0.41898)])\n",
            "Expected annual return: 17.5%\n",
            "Annual volatility: 23.2%\n",
            "Sharpe Ratio: 0.67\n"
          ]
        },
        {
          "output_type": "execute_result",
          "data": {
            "text/plain": [
              "(0.17489450173834842, 0.23150709121548954, 0.669070225560265)"
            ]
          },
          "metadata": {},
          "execution_count": 42
        }
      ]
    },
    {
      "cell_type": "markdown",
      "metadata": {
        "id": "pDapv5rmdxmm"
      },
      "source": [
        "# Links utiles:"
      ]
    },
    {
      "cell_type": "markdown",
      "metadata": {
        "id": "KJjgTpXCdxmm"
      },
      "source": [
        "https://randerson112358.medium.com/python-for-finance-portfolio-optimization-66882498847\n",
        "\n",
        "https://pyportfolioopt.readthedocs.io/en/latest/UserGuide.html"
      ]
    },
    {
      "cell_type": "code",
      "metadata": {
        "id": "UozIhAfKdxmm"
      },
      "source": [
        ""
      ],
      "execution_count": null,
      "outputs": []
    }
  ]
}